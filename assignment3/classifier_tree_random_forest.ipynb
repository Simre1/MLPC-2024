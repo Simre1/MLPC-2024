{
 "cells": [
  {
   "cell_type": "markdown",
   "id": "0b87947f-c2f0-401b-bc1d-85f309e08040",
   "metadata": {},
   "source": [
    "Decision Tree and Random Forest"
   ]
  },
  {
   "cell_type": "code",
   "execution_count": 1,
   "id": "246737f6-48d3-460e-bc10-51cd9f9b5fc7",
   "metadata": {},
   "outputs": [],
   "source": [
    "import sys\n",
    "sys.path.append('../libs')  # Update this path according to the location of your 'dataset' module\n",
    "\n",
    "import dataset\n",
    "import preprocessing\n",
    "import classes\n",
    "import numpy as np\n",
    "import dataset\n",
    "import preprocessing\n",
    "import classes\n",
    "import numpy as np\n",
    "import pandas as pd\n",
    "import matplotlib.pyplot as plt\n",
    "import seaborn as sns\n",
    "\n",
    "import torch\n",
    "import torch.nn as nn\n",
    "\n",
    "from sklearn.model_selection import train_test_split, GridSearchCV\n",
    "from sklearn.tree import DecisionTreeClassifier\n",
    "from sklearn.metrics import confusion_matrix, classification_report, accuracy_score\n",
    "from sklearn.ensemble import RandomForestClassifier\n"
   ]
  },
  {
   "cell_type": "markdown",
   "id": "7fb6f477-0873-4de0-bce8-5491824a43f0",
   "metadata": {},
   "source": [
    "Import the Files and splita the data for training and test"
   ]
  },
  {
   "cell_type": "code",
   "execution_count": 2,
   "id": "a76455db-98f2-4834-8edd-70a8768213b3",
   "metadata": {},
   "outputs": [],
   "source": [
    "# Load features\n",
    "features = np.load(\"../Files/development_numpy/development.npy\")\n",
    "\n",
    "# Load labels\n",
    "labels_df = pd.read_csv(\"../Files/metadata/development.csv\")\n",
    "#print(labels_df.head())\n",
    "labels = labels_df['word'] \n",
    "\n",
    "# Split the dataset into training and test sets\n",
    "X_train, X_test, y_train, y_test = train_test_split(features, labels, test_size=0.2, random_state=42)\n"
   ]
  },
  {
   "cell_type": "markdown",
   "id": "10185c4c-63f6-4ecb-b4c5-99bcf5528843",
   "metadata": {},
   "source": [
    "Flatten the data for training"
   ]
  },
  {
   "cell_type": "code",
   "execution_count": 3,
   "id": "d2883b8c-c86a-4427-bb71-bc9ee985b90d",
   "metadata": {},
   "outputs": [
    {
     "name": "stdout",
     "output_type": "stream",
     "text": [
      "Shape of X_train: (36236, 175, 44)\n",
      "New shape of X_train_flat: (36236, 7700)\n"
     ]
    }
   ],
   "source": [
    "print(\"Shape of X_train:\", X_train.shape)\n",
    "\n",
    "# Flatten each sample into a one-dimensional array\n",
    "X_train_flat = X_train.reshape(X_train.shape[0], -1)\n",
    "X_test_flat = X_test.reshape(X_test.shape[0], -1)\n",
    "\n",
    "# Check the new shape of the flattened arrays\n",
    "print(\"New shape of X_train_flat:\", X_train_flat.shape)"
   ]
  },
  {
   "cell_type": "markdown",
   "id": "80992f2a-a188-4123-b298-9d4d0fc33022",
   "metadata": {},
   "source": [
    "Train Descision Tree Classifier and print result"
   ]
  },
  {
   "cell_type": "code",
   "execution_count": 6,
   "id": "987e79db-d12c-4c58-9304-7ff74efcd82b",
   "metadata": {},
   "outputs": [
    {
     "name": "stdout",
     "output_type": "stream",
     "text": [
      "Decision Tree Classifier Performance:\n",
      "Accuracy: 0.7100441501103752\n",
      "              precision    recall  f1-score   support\n",
      "\n",
      "       Alarm       0.66      0.69      0.68       412\n",
      "    Brötchen       0.59      0.60      0.59       379\n",
      "   Fernseher       0.62      0.64      0.63       388\n",
      "        Haus       0.74      0.72      0.73       432\n",
      "     Heizung       0.68      0.71      0.69       403\n",
      "     Leitung       0.73      0.70      0.72       425\n",
      "       Licht       0.62      0.70      0.66       387\n",
      "     Lüftung       0.73      0.73      0.73       423\n",
      "        Ofen       0.53      0.59      0.55       388\n",
      "       Radio       0.69      0.69      0.69       404\n",
      "    Schraube       0.81      0.79      0.80       398\n",
      "     Spiegel       0.84      0.84      0.84       387\n",
      " Staubsauger       0.74      0.76      0.75       368\n",
      "          an       0.71      0.69      0.70       442\n",
      "         aus       0.71      0.74      0.72       401\n",
      "        kann       0.73      0.72      0.73       421\n",
      "       nicht       0.71      0.65      0.68       406\n",
      "       offen       0.60      0.59      0.60       437\n",
      "       other       0.86      0.83      0.85       914\n",
      "        warm       0.68      0.64      0.66       416\n",
      "   wunderbar       0.77      0.74      0.76       429\n",
      "\n",
      "    accuracy                           0.71      9060\n",
      "   macro avg       0.70      0.70      0.70      9060\n",
      "weighted avg       0.71      0.71      0.71      9060\n",
      "\n"
     ]
    }
   ],
   "source": [
    "# Initialize the Decision Tree Classifier\n",
    "dt_classifier = DecisionTreeClassifier(random_state=42)\n",
    "\n",
    "# Train the classifier with the flattened data\n",
    "dt_classifier.fit(X_train_flat, y_train)\n",
    "\n",
    "# Predict on the flattened test set\n",
    "dt_predictions = dt_classifier.predict(X_test_flat)\n",
    "\n",
    "# Evaluate the classifier\n",
    "print(\"Decision Tree Classifier Performance:\")\n",
    "print(\"Accuracy:\", accuracy_score(y_test, dt_predictions))\n",
    "print(classification_report(y_test, dt_predictions))\n"
   ]
  },
  {
   "cell_type": "markdown",
   "id": "69aa5eda-a4f9-42c1-b97c-a05478a16a5e",
   "metadata": {},
   "source": [
    "Try to find the best parameters to improve accuracy "
   ]
  },
  {
   "cell_type": "code",
   "execution_count": 18,
   "id": "c07d641f-dfee-429f-bf72-72c3fe0969d3",
   "metadata": {},
   "outputs": [
    {
     "name": "stdout",
     "output_type": "stream",
     "text": [
      "Fitting 3 folds for each of 54 candidates, totalling 162 fits\n",
      "Best parameters: {'max_depth': 40, 'min_samples_leaf': 4, 'min_samples_split': 10}\n",
      "Tuned Decision Tree Classifier Performance:\n",
      "Accuracy: 0.7162251655629139\n",
      "              precision    recall  f1-score   support\n",
      "\n",
      "       Alarm       0.64      0.73      0.68       412\n",
      "    Brötchen       0.58      0.61      0.59       379\n",
      "   Fernseher       0.62      0.68      0.65       388\n",
      "        Haus       0.74      0.74      0.74       432\n",
      "     Heizung       0.67      0.70      0.69       403\n",
      "     Leitung       0.70      0.71      0.70       425\n",
      "       Licht       0.62      0.69      0.65       387\n",
      "     Lüftung       0.73      0.74      0.73       423\n",
      "        Ofen       0.55      0.60      0.57       388\n",
      "       Radio       0.66      0.71      0.69       404\n",
      "    Schraube       0.77      0.79      0.78       398\n",
      "     Spiegel       0.86      0.85      0.85       387\n",
      " Staubsauger       0.79      0.77      0.78       368\n",
      "          an       0.74      0.69      0.71       442\n",
      "         aus       0.75      0.74      0.75       401\n",
      "        kann       0.76      0.73      0.74       421\n",
      "       nicht       0.73      0.66      0.69       406\n",
      "       offen       0.61      0.58      0.60       437\n",
      "       other       0.90      0.83      0.86       914\n",
      "        warm       0.67      0.64      0.65       416\n",
      "   wunderbar       0.80      0.75      0.78       429\n",
      "\n",
      "    accuracy                           0.72      9060\n",
      "   macro avg       0.71      0.71      0.71      9060\n",
      "weighted avg       0.72      0.72      0.72      9060\n",
      "\n"
     ]
    }
   ],
   "source": [
    "# Set up the parameters grid\n",
    "param_grid = {\n",
    "    'max_depth': [None, 10, 20, 30, 40, 50],\n",
    "    'min_samples_split': [2, 5, 10],\n",
    "    'min_samples_leaf': [1, 2, 4]\n",
    "}\n",
    "\n",
    "# Initialize the Decision Tree Classifier\n",
    "dt = DecisionTreeClassifier(random_state=42)\n",
    "\n",
    "# Initialize the GridSearchCV object\n",
    "grid_search = GridSearchCV(estimator=dt, param_grid=param_grid, cv=3, n_jobs=-1, verbose=2)\n",
    "\n",
    "# Fit the grid search to the data\n",
    "grid_search.fit(X_train_flat, y_train)\n",
    "\n",
    "# Find the best parameters\n",
    "best_params = grid_search.best_params_\n",
    "print(\"Best parameters:\", best_params)\n",
    "\n",
    "# Train the classifier with the best parameters\n",
    "dt_classifier = DecisionTreeClassifier(**best_params, random_state=42)\n",
    "dt_classifier.fit(X_train_flat, y_train)\n",
    "\n",
    "# Predict on the test set\n",
    "dt_predictions = dt_classifier.predict(X_test_flat)\n",
    "\n",
    "# Evaluate the classifier\n",
    "print(\"Tuned Decision Tree Classifier Performance:\")\n",
    "print(\"Accuracy:\", accuracy_score(y_test, dt_predictions))\n",
    "print(classification_report(y_test, dt_predictions))\n"
   ]
  },
  {
   "cell_type": "code",
   "execution_count": 20,
   "id": "d108d0e2-b34f-4f87-b812-0f44be742044",
   "metadata": {},
   "outputs": [
    {
     "name": "stdout",
     "output_type": "stream",
     "text": [
      "Pruned Decision Tree Classifier Performance:\n",
      "Accuracy: 0.40927152317880794\n",
      "              precision    recall  f1-score   support\n",
      "\n",
      "       Alarm       0.00      0.00      0.00       412\n",
      "    Brötchen       0.41      0.32      0.36       379\n",
      "   Fernseher       0.00      0.00      0.00       388\n",
      "        Haus       0.71      0.63      0.67       432\n",
      "     Heizung       0.00      0.00      0.00       403\n",
      "     Leitung       0.00      0.00      0.00       425\n",
      "       Licht       0.00      0.00      0.00       387\n",
      "     Lüftung       0.63      0.56      0.59       423\n",
      "        Ofen       0.00      0.00      0.00       388\n",
      "       Radio       0.67      0.49      0.57       404\n",
      "    Schraube       0.76      0.52      0.61       398\n",
      "     Spiegel       0.52      0.68      0.59       387\n",
      " Staubsauger       0.43      0.48      0.46       368\n",
      "          an       0.35      0.64      0.45       442\n",
      "         aus       0.80      0.46      0.58       401\n",
      "        kann       0.00      0.00      0.00       421\n",
      "       nicht       0.35      0.77      0.48       406\n",
      "       offen       0.40      0.66      0.49       437\n",
      "       other       0.84      0.64      0.72       914\n",
      "        warm       0.22      0.72      0.34       416\n",
      "   wunderbar       0.16      0.67      0.25       429\n",
      "\n",
      "    accuracy                           0.41      9060\n",
      "   macro avg       0.34      0.39      0.34      9060\n",
      "weighted avg       0.37      0.41      0.36      9060\n",
      "\n"
     ]
    },
    {
     "name": "stderr",
     "output_type": "stream",
     "text": [
      "C:\\ProgramData\\anaconda3\\Lib\\site-packages\\sklearn\\metrics\\_classification.py:1344: UndefinedMetricWarning: Precision and F-score are ill-defined and being set to 0.0 in labels with no predicted samples. Use `zero_division` parameter to control this behavior.\n",
      "  _warn_prf(average, modifier, msg_start, len(result))\n",
      "C:\\ProgramData\\anaconda3\\Lib\\site-packages\\sklearn\\metrics\\_classification.py:1344: UndefinedMetricWarning: Precision and F-score are ill-defined and being set to 0.0 in labels with no predicted samples. Use `zero_division` parameter to control this behavior.\n",
      "  _warn_prf(average, modifier, msg_start, len(result))\n",
      "C:\\ProgramData\\anaconda3\\Lib\\site-packages\\sklearn\\metrics\\_classification.py:1344: UndefinedMetricWarning: Precision and F-score are ill-defined and being set to 0.0 in labels with no predicted samples. Use `zero_division` parameter to control this behavior.\n",
      "  _warn_prf(average, modifier, msg_start, len(result))\n"
     ]
    }
   ],
   "source": [
    "# Train the classifier with best parameters and cost complexity pruning\n",
    "dt_classifier_pruned = DecisionTreeClassifier(**best_params, random_state=42, ccp_alpha=0.01)  # Adjust ccp_alpha based on validation curve analysis\n",
    "dt_classifier_pruned.fit(X_train_flat, y_train)\n",
    "\n",
    "# Predict on the test set\n",
    "dt_pruned_predictions = dt_classifier_pruned.predict(X_test_flat)\n",
    "\n",
    "# Evaluate the classifier\n",
    "print(\"Pruned Decision Tree Classifier Performance:\")\n",
    "print(\"Accuracy:\", accuracy_score(y_test, dt_pruned_predictions))\n",
    "print(classification_report(y_test, dt_pruned_predictions))"
   ]
  },
  {
   "cell_type": "code",
   "execution_count": 5,
   "id": "f4c9c114-2be7-452a-a73a-aa8cfc5093e5",
   "metadata": {},
   "outputs": [
    {
     "name": "stdout",
     "output_type": "stream",
     "text": [
      "Random Forest Classifier Performance:\n",
      "Accuracy: 0.9108167770419426\n",
      "              precision    recall  f1-score   support\n",
      "\n",
      "       Alarm       0.88      0.94      0.91       412\n",
      "    Brötchen       0.96      0.92      0.94       379\n",
      "   Fernseher       0.95      0.93      0.94       388\n",
      "        Haus       0.88      0.88      0.88       432\n",
      "     Heizung       0.96      0.95      0.95       403\n",
      "     Leitung       0.95      0.92      0.94       425\n",
      "       Licht       0.89      0.89      0.89       387\n",
      "     Lüftung       0.96      0.92      0.94       423\n",
      "        Ofen       0.76      0.75      0.75       388\n",
      "       Radio       0.95      0.95      0.95       404\n",
      "    Schraube       0.95      0.96      0.95       398\n",
      "     Spiegel       0.95      0.96      0.96       387\n",
      " Staubsauger       0.98      0.95      0.96       368\n",
      "          an       0.88      0.92      0.90       442\n",
      "         aus       0.86      0.86      0.86       401\n",
      "        kann       0.92      0.86      0.89       421\n",
      "       nicht       0.88      0.90      0.89       406\n",
      "       offen       0.78      0.78      0.78       437\n",
      "       other       0.92      0.97      0.94       914\n",
      "        warm       0.92      0.86      0.89       416\n",
      "   wunderbar       0.96      0.98      0.97       429\n",
      "\n",
      "    accuracy                           0.91      9060\n",
      "   macro avg       0.91      0.91      0.91      9060\n",
      "weighted avg       0.91      0.91      0.91      9060\n",
      "\n"
     ]
    }
   ],
   "source": [
    "# Initialize the Random Forest Classifier\n",
    "rf_classifier = RandomForestClassifier(n_estimators=100, random_state=42)\n",
    "\n",
    "# Train the classifier\n",
    "rf_classifier.fit(X_train_flat, y_train)\n",
    "\n",
    "# Predict on the test set\n",
    "rf_predictions = rf_classifier.predict(X_test_flat)\n",
    "\n",
    "# Evaluate the classifier\n",
    "print(\"Random Forest Classifier Performance:\")\n",
    "print(\"Accuracy:\", accuracy_score(y_test, rf_predictions))\n",
    "print(classification_report(y_test, rf_predictions))"
   ]
  },
  {
   "cell_type": "code",
   "execution_count": null,
   "id": "c69ba264-f042-46ed-9ff8-8727fe020cd8",
   "metadata": {},
   "outputs": [
    {
     "name": "stdout",
     "output_type": "stream",
     "text": [
      "Fitting 3 folds for each of 810 candidates, totalling 2430 fits\n"
     ]
    }
   ],
   "source": [
    "# Define the parameter grid\n",
    "param_grid = {\n",
    "    'n_estimators': [100, 200, 300],\n",
    "    'max_features': ['auto', 'sqrt', 'log2'],\n",
    "    'max_depth': [None, 10, 20, 30, 40],\n",
    "    'min_samples_split': [2, 5, 10],\n",
    "    'min_samples_leaf': [1, 2, 4],\n",
    "    'bootstrap': [True, False]\n",
    "}\n",
    "\n",
    "# Initialize the Random Forest Classifier\n",
    "rf = RandomForestClassifier(random_state=42)\n",
    "\n",
    "# Initialize the GridSearchCV object\n",
    "grid_search = GridSearchCV(estimator=rf, param_grid=param_grid, cv=3, n_jobs=-1, verbose=2)\n",
    "\n",
    "# Fit the grid search to the data\n",
    "grid_search.fit(X_train_flat, y_train)\n",
    "\n",
    "# Find the best parameters\n",
    "best_params = grid_search.best_params_\n",
    "print(\"Best parameters:\", best_params)\n",
    "\n",
    "# Train the classifier with the best parameters\n",
    "rf_classifier = RandomForestClassifier(**best_params, random_state=42)\n",
    "rf_classifier.fit(X_train_flat, y_train)\n",
    "\n",
    "# Predict on the test set\n",
    "rf_predictions = rf_classifier.predict(X_test_flat)\n",
    "\n",
    "# Evaluate the classifier\n",
    "print(\"Tuned Random Forest Classifier Performance:\")\n",
    "print(\"Accuracy:\", accuracy_score(y_test, rf_predictions))\n",
    "print(classification_report(y_test, rf_predictions))\n"
   ]
  },
  {
   "cell_type": "code",
   "execution_count": 7,
   "id": "4912e4f8-3f04-4986-ab8a-5f4d528ee1b7",
   "metadata": {},
   "outputs": [
    {
     "name": "stderr",
     "output_type": "stream",
     "text": [
      "C:\\ProgramData\\anaconda3\\Lib\\site-packages\\sklearn\\ensemble\\_forest.py:424: FutureWarning: `max_features='auto'` has been deprecated in 1.1 and will be removed in 1.3. To keep the past behaviour, explicitly set `max_features='sqrt'` or remove this parameter as it is also the default value for RandomForestClassifiers and ExtraTreesClassifiers.\n",
      "  warn(\n"
     ]
    },
    {
     "data": {
      "text/html": [
       "<style>#sk-container-id-1 {color: black;background-color: white;}#sk-container-id-1 pre{padding: 0;}#sk-container-id-1 div.sk-toggleable {background-color: white;}#sk-container-id-1 label.sk-toggleable__label {cursor: pointer;display: block;width: 100%;margin-bottom: 0;padding: 0.3em;box-sizing: border-box;text-align: center;}#sk-container-id-1 label.sk-toggleable__label-arrow:before {content: \"▸\";float: left;margin-right: 0.25em;color: #696969;}#sk-container-id-1 label.sk-toggleable__label-arrow:hover:before {color: black;}#sk-container-id-1 div.sk-estimator:hover label.sk-toggleable__label-arrow:before {color: black;}#sk-container-id-1 div.sk-toggleable__content {max-height: 0;max-width: 0;overflow: hidden;text-align: left;background-color: #f0f8ff;}#sk-container-id-1 div.sk-toggleable__content pre {margin: 0.2em;color: black;border-radius: 0.25em;background-color: #f0f8ff;}#sk-container-id-1 input.sk-toggleable__control:checked~div.sk-toggleable__content {max-height: 200px;max-width: 100%;overflow: auto;}#sk-container-id-1 input.sk-toggleable__control:checked~label.sk-toggleable__label-arrow:before {content: \"▾\";}#sk-container-id-1 div.sk-estimator input.sk-toggleable__control:checked~label.sk-toggleable__label {background-color: #d4ebff;}#sk-container-id-1 div.sk-label input.sk-toggleable__control:checked~label.sk-toggleable__label {background-color: #d4ebff;}#sk-container-id-1 input.sk-hidden--visually {border: 0;clip: rect(1px 1px 1px 1px);clip: rect(1px, 1px, 1px, 1px);height: 1px;margin: -1px;overflow: hidden;padding: 0;position: absolute;width: 1px;}#sk-container-id-1 div.sk-estimator {font-family: monospace;background-color: #f0f8ff;border: 1px dotted black;border-radius: 0.25em;box-sizing: border-box;margin-bottom: 0.5em;}#sk-container-id-1 div.sk-estimator:hover {background-color: #d4ebff;}#sk-container-id-1 div.sk-parallel-item::after {content: \"\";width: 100%;border-bottom: 1px solid gray;flex-grow: 1;}#sk-container-id-1 div.sk-label:hover label.sk-toggleable__label {background-color: #d4ebff;}#sk-container-id-1 div.sk-serial::before {content: \"\";position: absolute;border-left: 1px solid gray;box-sizing: border-box;top: 0;bottom: 0;left: 50%;z-index: 0;}#sk-container-id-1 div.sk-serial {display: flex;flex-direction: column;align-items: center;background-color: white;padding-right: 0.2em;padding-left: 0.2em;position: relative;}#sk-container-id-1 div.sk-item {position: relative;z-index: 1;}#sk-container-id-1 div.sk-parallel {display: flex;align-items: stretch;justify-content: center;background-color: white;position: relative;}#sk-container-id-1 div.sk-item::before, #sk-container-id-1 div.sk-parallel-item::before {content: \"\";position: absolute;border-left: 1px solid gray;box-sizing: border-box;top: 0;bottom: 0;left: 50%;z-index: -1;}#sk-container-id-1 div.sk-parallel-item {display: flex;flex-direction: column;z-index: 1;position: relative;background-color: white;}#sk-container-id-1 div.sk-parallel-item:first-child::after {align-self: flex-end;width: 50%;}#sk-container-id-1 div.sk-parallel-item:last-child::after {align-self: flex-start;width: 50%;}#sk-container-id-1 div.sk-parallel-item:only-child::after {width: 0;}#sk-container-id-1 div.sk-dashed-wrapped {border: 1px dashed gray;margin: 0 0.4em 0.5em 0.4em;box-sizing: border-box;padding-bottom: 0.4em;background-color: white;}#sk-container-id-1 div.sk-label label {font-family: monospace;font-weight: bold;display: inline-block;line-height: 1.2em;}#sk-container-id-1 div.sk-label-container {text-align: center;}#sk-container-id-1 div.sk-container {/* jupyter's `normalize.less` sets `[hidden] { display: none; }` but bootstrap.min.css set `[hidden] { display: none !important; }` so we also need the `!important` here to be able to override the default hidden behavior on the sphinx rendered scikit-learn.org. See: https://github.com/scikit-learn/scikit-learn/issues/21755 */display: inline-block !important;position: relative;}#sk-container-id-1 div.sk-text-repr-fallback {display: none;}</style><div id=\"sk-container-id-1\" class=\"sk-top-container\"><div class=\"sk-text-repr-fallback\"><pre>RandomForestClassifier(max_depth=30, max_features=&#x27;auto&#x27;, min_samples_leaf=2,\n",
       "                       min_samples_split=5, n_estimators=200, random_state=42)</pre><b>In a Jupyter environment, please rerun this cell to show the HTML representation or trust the notebook. <br />On GitHub, the HTML representation is unable to render, please try loading this page with nbviewer.org.</b></div><div class=\"sk-container\" hidden><div class=\"sk-item\"><div class=\"sk-estimator sk-toggleable\"><input class=\"sk-toggleable__control sk-hidden--visually\" id=\"sk-estimator-id-1\" type=\"checkbox\" checked><label for=\"sk-estimator-id-1\" class=\"sk-toggleable__label sk-toggleable__label-arrow\">RandomForestClassifier</label><div class=\"sk-toggleable__content\"><pre>RandomForestClassifier(max_depth=30, max_features=&#x27;auto&#x27;, min_samples_leaf=2,\n",
       "                       min_samples_split=5, n_estimators=200, random_state=42)</pre></div></div></div></div></div>"
      ],
      "text/plain": [
       "RandomForestClassifier(max_depth=30, max_features='auto', min_samples_leaf=2,\n",
       "                       min_samples_split=5, n_estimators=200, random_state=42)"
      ]
     },
     "execution_count": 7,
     "metadata": {},
     "output_type": "execute_result"
    }
   ],
   "source": [
    "# Define your best parameters if you have already tuned them\n",
    "best_params = {\n",
    "    'n_estimators': 200,\n",
    "    'max_features': 'auto',\n",
    "    'max_depth': 30,\n",
    "    'min_samples_split': 5,\n",
    "    'min_samples_leaf': 2,\n",
    "    'bootstrap': True\n",
    "}\n",
    "\n",
    "# Initialize the Random Forest Classifier with best parameters\n",
    "rf_classifier = RandomForestClassifier(**best_params, random_state=42)\n",
    "\n",
    "# Train the classifier\n",
    "rf_classifier.fit(X_train_flat, y_train)\n"
   ]
  },
  {
   "cell_type": "code",
   "execution_count": 8,
   "id": "0cba1df8-e71f-4bd0-94f7-630fff38c448",
   "metadata": {},
   "outputs": [
    {
     "name": "stdout",
     "output_type": "stream",
     "text": [
      "Random Forest Classifier Performance:\n",
      "Accuracy: 0.9132450331125828\n",
      "              precision    recall  f1-score   support\n",
      "\n",
      "       Alarm       0.89      0.93      0.91       412\n",
      "    Brötchen       0.97      0.92      0.94       379\n",
      "   Fernseher       0.94      0.92      0.93       388\n",
      "        Haus       0.88      0.89      0.88       432\n",
      "     Heizung       0.96      0.95      0.95       403\n",
      "     Leitung       0.97      0.92      0.94       425\n",
      "       Licht       0.91      0.88      0.89       387\n",
      "     Lüftung       0.95      0.95      0.95       423\n",
      "        Ofen       0.78      0.75      0.76       388\n",
      "       Radio       0.96      0.95      0.95       404\n",
      "    Schraube       0.96      0.97      0.96       398\n",
      "     Spiegel       0.94      0.97      0.95       387\n",
      " Staubsauger       0.98      0.94      0.96       368\n",
      "          an       0.89      0.91      0.90       442\n",
      "         aus       0.87      0.86      0.86       401\n",
      "        kann       0.91      0.88      0.89       421\n",
      "       nicht       0.89      0.92      0.90       406\n",
      "       offen       0.80      0.80      0.80       437\n",
      "       other       0.90      0.97      0.94       914\n",
      "        warm       0.93      0.87      0.90       416\n",
      "   wunderbar       0.94      0.98      0.96       429\n",
      "\n",
      "    accuracy                           0.91      9060\n",
      "   macro avg       0.91      0.91      0.91      9060\n",
      "weighted avg       0.91      0.91      0.91      9060\n",
      "\n"
     ]
    }
   ],
   "source": [
    "# Predict on the test set\n",
    "rf_predictions = rf_classifier.predict(X_test_flat)\n",
    "\n",
    "# Evaluate the classifier\n",
    "print(\"Random Forest Classifier Performance:\")\n",
    "print(\"Accuracy:\", accuracy_score(y_test, rf_predictions))\n",
    "print(classification_report(y_test, rf_predictions))\n"
   ]
  },
  {
   "cell_type": "code",
   "execution_count": 32,
   "id": "add99ece-c721-4b85-aee0-6f885acd143d",
   "metadata": {},
   "outputs": [
    {
     "data": {
      "image/png": "[encoded data removed]",
      "text/plain": [
       "<Figure size 1000x700 with 2 Axes>"
      ]
     },
     "metadata": {},
     "output_type": "display_data"
    }
   ],
   "source": [
    "# Generate the confusion matrix\n",
    "confmat = confusion_matrix(y_test, rf_predictions)\n",
    "\n",
    "# Load labels\n",
    "y_labels = pd.read_csv(\"../Files/metadata/development.csv\")['word']\n",
    "\n",
    "# Define class names (replace with actual class names from your dataset)\n",
    "classes = y_labels.unique().tolist()\n",
    "\n",
    "plt.figure(figsize=(10, 7))\n",
    "heatmap = sns.heatmap(confmat, fmt='d', cmap='Blues', xticklabels=classes, yticklabels=classes)\n",
    "heatmap.set_xticklabels(heatmap.get_xticklabels(), rotation=45, ha='right')\n",
    "plt.ylabel('Actual')\n",
    "plt.xlabel('Predicted')\n",
    "plt.title('Confusion Matrix for Random Forest Classifier')\n",
    "\n",
    "\n",
    "# Save the confusion matrix as a PNG file\n",
    "plt.savefig('confusion_matrix.png')\n",
    "\n",
    "plt.show()"
   ]
  },
  {
   "cell_type": "code",
   "execution_count": 7,
   "id": "c3eac29e-365a-421b-8f81-e3a06cf0ad43",
   "metadata": {},
   "outputs": [
    {
     "name": "stdout",
     "output_type": "stream",
     "text": [
      "Fitting 3 folds for each of 144 candidates, totalling 432 fits\n"
     ]
    },
    {
     "name": "stderr",
     "output_type": "stream",
     "text": [
      "C:\\ProgramData\\anaconda3\\Lib\\site-packages\\sklearn\\ensemble\\_forest.py:424: FutureWarning: `max_features='auto'` has been deprecated in 1.1 and will be removed in 1.3. To keep the past behaviour, explicitly set `max_features='sqrt'` or remove this parameter as it is also the default value for RandomForestClassifiers and ExtraTreesClassifiers.\n",
      "  warn(\n"
     ]
    },
    {
     "name": "stdout",
     "output_type": "stream",
     "text": [
      "Best parameters: {'bootstrap': False, 'max_depth': None, 'max_features': 'auto', 'min_samples_leaf': 1, 'min_samples_split': 5, 'n_estimators': 200}\n"
     ]
    },
    {
     "name": "stderr",
     "output_type": "stream",
     "text": [
      "C:\\ProgramData\\anaconda3\\Lib\\site-packages\\sklearn\\ensemble\\_forest.py:424: FutureWarning: `max_features='auto'` has been deprecated in 1.1 and will be removed in 1.3. To keep the past behaviour, explicitly set `max_features='sqrt'` or remove this parameter as it is also the default value for RandomForestClassifiers and ExtraTreesClassifiers.\n",
      "  warn(\n"
     ]
    },
    {
     "name": "stdout",
     "output_type": "stream",
     "text": [
      "Tuned Random Forest Classifier Performance:\n",
      "Accuracy: 0.9247240618101545\n",
      "              precision    recall  f1-score   support\n",
      "\n",
      "       Alarm       0.91      0.95      0.93       412\n",
      "    Brötchen       0.97      0.95      0.96       379\n",
      "   Fernseher       0.97      0.94      0.95       388\n",
      "        Haus       0.90      0.90      0.90       432\n",
      "     Heizung       0.97      0.97      0.97       403\n",
      "     Leitung       0.98      0.94      0.96       425\n",
      "       Licht       0.91      0.87      0.89       387\n",
      "     Lüftung       0.97      0.95      0.96       423\n",
      "        Ofen       0.78      0.77      0.78       388\n",
      "       Radio       0.97      0.95      0.96       404\n",
      "    Schraube       0.95      0.97      0.96       398\n",
      "     Spiegel       0.95      0.97      0.96       387\n",
      " Staubsauger       0.98      0.94      0.96       368\n",
      "          an       0.91      0.92      0.91       442\n",
      "         aus       0.88      0.89      0.89       401\n",
      "        kann       0.93      0.89      0.91       421\n",
      "       nicht       0.88      0.92      0.90       406\n",
      "       offen       0.80      0.81      0.80       437\n",
      "       other       0.92      0.97      0.95       914\n",
      "        warm       0.92      0.91      0.91       416\n",
      "   wunderbar       0.96      0.99      0.97       429\n",
      "\n",
      "    accuracy                           0.92      9060\n",
      "   macro avg       0.93      0.92      0.92      9060\n",
      "weighted avg       0.93      0.92      0.92      9060\n",
      "\n"
     ]
    }
   ],
   "source": [
    "# Define the parameter grid\n",
    "param_grid = {\n",
    "    'n_estimators': [100, 200],\n",
    "    'max_features': ['auto', 'sqrt', 'log2'],\n",
    "    'max_depth': [None, 10, 20],\n",
    "    'min_samples_split': [2, 5],\n",
    "    'min_samples_leaf': [1, 2],\n",
    "    'bootstrap': [True, False]\n",
    "}\n",
    "\n",
    "# Initialize the Random Forest Classifier\n",
    "rf = RandomForestClassifier(random_state=42)\n",
    "\n",
    "# Initialize the GridSearchCV object\n",
    "grid_search = GridSearchCV(estimator=rf, param_grid=param_grid, cv=3, n_jobs=-1, verbose=2)\n",
    "\n",
    "# Fit the grid search to the data\n",
    "grid_search.fit(X_train_flat, y_train)\n",
    "\n",
    "# Find the best parameters\n",
    "best_params = grid_search.best_params_\n",
    "print(\"Best parameters:\", best_params)\n",
    "\n",
    "# Train the classifier with the best parameters\n",
    "rf_classifier = RandomForestClassifier(**best_params, random_state=42)\n",
    "rf_classifier.fit(X_train_flat, y_train)\n",
    "\n",
    "# Predict on the test set\n",
    "rf_predictions = rf_classifier.predict(X_test_flat)\n",
    "\n",
    "# Evaluate the classifier\n",
    "print(\"Tuned Random Forest Classifier Performance:\")\n",
    "print(\"Accuracy:\", accuracy_score(y_test, rf_predictions))\n",
    "print(classification_report(y_test, rf_predictions))\n",
    "\n"
   ]
  },
  {
   "cell_type": "code",
   "execution_count": 8,
   "id": "cf1d8bf3-95b1-4a01-ae82-a973ad477c51",
   "metadata": {},
   "outputs": [
    {
     "name": "stderr",
     "output_type": "stream",
     "text": [
      "C:\\ProgramData\\anaconda3\\Lib\\site-packages\\sklearn\\ensemble\\_forest.py:424: FutureWarning: `max_features='auto'` has been deprecated in 1.1 and will be removed in 1.3. To keep the past behaviour, explicitly set `max_features='sqrt'` or remove this parameter as it is also the default value for RandomForestClassifiers and ExtraTreesClassifiers.\n",
      "  warn(\n"
     ]
    },
    {
     "data": {
      "text/html": [
       "<style>#sk-container-id-1 {color: black;background-color: white;}#sk-container-id-1 pre{padding: 0;}#sk-container-id-1 div.sk-toggleable {background-color: white;}#sk-container-id-1 label.sk-toggleable__label {cursor: pointer;display: block;width: 100%;margin-bottom: 0;padding: 0.3em;box-sizing: border-box;text-align: center;}#sk-container-id-1 label.sk-toggleable__label-arrow:before {content: \"▸\";float: left;margin-right: 0.25em;color: #696969;}#sk-container-id-1 label.sk-toggleable__label-arrow:hover:before {color: black;}#sk-container-id-1 div.sk-estimator:hover label.sk-toggleable__label-arrow:before {color: black;}#sk-container-id-1 div.sk-toggleable__content {max-height: 0;max-width: 0;overflow: hidden;text-align: left;background-color: #f0f8ff;}#sk-container-id-1 div.sk-toggleable__content pre {margin: 0.2em;color: black;border-radius: 0.25em;background-color: #f0f8ff;}#sk-container-id-1 input.sk-toggleable__control:checked~div.sk-toggleable__content {max-height: 200px;max-width: 100%;overflow: auto;}#sk-container-id-1 input.sk-toggleable__control:checked~label.sk-toggleable__label-arrow:before {content: \"▾\";}#sk-container-id-1 div.sk-estimator input.sk-toggleable__control:checked~label.sk-toggleable__label {background-color: #d4ebff;}#sk-container-id-1 div.sk-label input.sk-toggleable__control:checked~label.sk-toggleable__label {background-color: #d4ebff;}#sk-container-id-1 input.sk-hidden--visually {border: 0;clip: rect(1px 1px 1px 1px);clip: rect(1px, 1px, 1px, 1px);height: 1px;margin: -1px;overflow: hidden;padding: 0;position: absolute;width: 1px;}#sk-container-id-1 div.sk-estimator {font-family: monospace;background-color: #f0f8ff;border: 1px dotted black;border-radius: 0.25em;box-sizing: border-box;margin-bottom: 0.5em;}#sk-container-id-1 div.sk-estimator:hover {background-color: #d4ebff;}#sk-container-id-1 div.sk-parallel-item::after {content: \"\";width: 100%;border-bottom: 1px solid gray;flex-grow: 1;}#sk-container-id-1 div.sk-label:hover label.sk-toggleable__label {background-color: #d4ebff;}#sk-container-id-1 div.sk-serial::before {content: \"\";position: absolute;border-left: 1px solid gray;box-sizing: border-box;top: 0;bottom: 0;left: 50%;z-index: 0;}#sk-container-id-1 div.sk-serial {display: flex;flex-direction: column;align-items: center;background-color: white;padding-right: 0.2em;padding-left: 0.2em;position: relative;}#sk-container-id-1 div.sk-item {position: relative;z-index: 1;}#sk-container-id-1 div.sk-parallel {display: flex;align-items: stretch;justify-content: center;background-color: white;position: relative;}#sk-container-id-1 div.sk-item::before, #sk-container-id-1 div.sk-parallel-item::before {content: \"\";position: absolute;border-left: 1px solid gray;box-sizing: border-box;top: 0;bottom: 0;left: 50%;z-index: -1;}#sk-container-id-1 div.sk-parallel-item {display: flex;flex-direction: column;z-index: 1;position: relative;background-color: white;}#sk-container-id-1 div.sk-parallel-item:first-child::after {align-self: flex-end;width: 50%;}#sk-container-id-1 div.sk-parallel-item:last-child::after {align-self: flex-start;width: 50%;}#sk-container-id-1 div.sk-parallel-item:only-child::after {width: 0;}#sk-container-id-1 div.sk-dashed-wrapped {border: 1px dashed gray;margin: 0 0.4em 0.5em 0.4em;box-sizing: border-box;padding-bottom: 0.4em;background-color: white;}#sk-container-id-1 div.sk-label label {font-family: monospace;font-weight: bold;display: inline-block;line-height: 1.2em;}#sk-container-id-1 div.sk-label-container {text-align: center;}#sk-container-id-1 div.sk-container {/* jupyter's `normalize.less` sets `[hidden] { display: none; }` but bootstrap.min.css set `[hidden] { display: none !important; }` so we also need the `!important` here to be able to override the default hidden behavior on the sphinx rendered scikit-learn.org. See: https://github.com/scikit-learn/scikit-learn/issues/21755 */display: inline-block !important;position: relative;}#sk-container-id-1 div.sk-text-repr-fallback {display: none;}</style><div id=\"sk-container-id-1\" class=\"sk-top-container\"><div class=\"sk-text-repr-fallback\"><pre>RandomForestClassifier(bootstrap=False, max_features=&#x27;auto&#x27;,\n",
       "                       min_samples_split=5, n_estimators=200, random_state=42)</pre><b>In a Jupyter environment, please rerun this cell to show the HTML representation or trust the notebook. <br />On GitHub, the HTML representation is unable to render, please try loading this page with nbviewer.org.</b></div><div class=\"sk-container\" hidden><div class=\"sk-item\"><div class=\"sk-estimator sk-toggleable\"><input class=\"sk-toggleable__control sk-hidden--visually\" id=\"sk-estimator-id-1\" type=\"checkbox\" checked><label for=\"sk-estimator-id-1\" class=\"sk-toggleable__label sk-toggleable__label-arrow\">RandomForestClassifier</label><div class=\"sk-toggleable__content\"><pre>RandomForestClassifier(bootstrap=False, max_features=&#x27;auto&#x27;,\n",
       "                       min_samples_split=5, n_estimators=200, random_state=42)</pre></div></div></div></div></div>"
      ],
      "text/plain": [
       "RandomForestClassifier(bootstrap=False, max_features='auto',\n",
       "                       min_samples_split=5, n_estimators=200, random_state=42)"
      ]
     },
     "execution_count": 8,
     "metadata": {},
     "output_type": "execute_result"
    }
   ],
   "source": [
    "# Define your best parameters if you have already tuned them\n",
    "best_params = {\n",
    "    'n_estimators': 200,\n",
    "    'max_features': 'auto',\n",
    "    'max_depth': None,\n",
    "    'min_samples_split': 5,\n",
    "    'min_samples_leaf': 1,\n",
    "    'bootstrap': False\n",
    "}\n",
    "\n",
    "# Initialize the Random Forest Classifier with best parameters\n",
    "rf_classifier = RandomForestClassifier(**best_params, random_state=42)\n",
    "\n",
    "# Train the classifier\n",
    "rf_classifier.fit(X_train_flat, y_train)\n"
   ]
  },
  {
   "cell_type": "code",
   "execution_count": 9,
   "id": "b8b23c94-e82c-475a-916a-e9a37799c82b",
   "metadata": {},
   "outputs": [
    {
     "name": "stdout",
     "output_type": "stream",
     "text": [
      "Random Forest Classifier Performance:\n",
      "Accuracy: 0.9247240618101545\n",
      "              precision    recall  f1-score   support\n",
      "\n",
      "       Alarm       0.91      0.95      0.93       412\n",
      "    Brötchen       0.97      0.95      0.96       379\n",
      "   Fernseher       0.97      0.94      0.95       388\n",
      "        Haus       0.90      0.90      0.90       432\n",
      "     Heizung       0.97      0.97      0.97       403\n",
      "     Leitung       0.98      0.94      0.96       425\n",
      "       Licht       0.91      0.87      0.89       387\n",
      "     Lüftung       0.97      0.95      0.96       423\n",
      "        Ofen       0.78      0.77      0.78       388\n",
      "       Radio       0.97      0.95      0.96       404\n",
      "    Schraube       0.95      0.97      0.96       398\n",
      "     Spiegel       0.95      0.97      0.96       387\n",
      " Staubsauger       0.98      0.94      0.96       368\n",
      "          an       0.91      0.92      0.91       442\n",
      "         aus       0.88      0.89      0.89       401\n",
      "        kann       0.93      0.89      0.91       421\n",
      "       nicht       0.88      0.92      0.90       406\n",
      "       offen       0.80      0.81      0.80       437\n",
      "       other       0.92      0.97      0.95       914\n",
      "        warm       0.92      0.91      0.91       416\n",
      "   wunderbar       0.96      0.99      0.97       429\n",
      "\n",
      "    accuracy                           0.92      9060\n",
      "   macro avg       0.93      0.92      0.92      9060\n",
      "weighted avg       0.93      0.92      0.92      9060\n",
      "\n"
     ]
    }
   ],
   "source": [
    "# Predict on the test set\n",
    "rf_predictions = rf_classifier.predict(X_test_flat)\n",
    "\n",
    "# Evaluate the classifier\n",
    "print(\"Random Forest Classifier Performance:\")\n",
    "print(\"Accuracy:\", accuracy_score(y_test, rf_predictions))\n",
    "print(classification_report(y_test, rf_predictions))\n",
    "\n"
   ]
  },
  {
   "cell_type": "code",
   "execution_count": 6,
   "id": "1c372c73-5127-48eb-956e-ad512197a1cc",
   "metadata": {},
   "outputs": [
    {
     "name": "stderr",
     "output_type": "stream",
     "text": [
      "C:\\ProgramData\\anaconda3\\Lib\\site-packages\\sklearn\\ensemble\\_forest.py:424: FutureWarning: `max_features='auto'` has been deprecated in 1.1 and will be removed in 1.3. To keep the past behaviour, explicitly set `max_features='sqrt'` or remove this parameter as it is also the default value for RandomForestClassifiers and ExtraTreesClassifiers.\n",
      "  warn(\n"
     ]
    },
    {
     "name": "stdout",
     "output_type": "stream",
     "text": [
      "Random Forest Classifier Performance:\n",
      "Accuracy: 0.9271523178807947\n",
      "              precision    recall  f1-score   support\n",
      "\n",
      "       Alarm       0.91      0.95      0.93       412\n",
      "    Brötchen       0.97      0.94      0.96       379\n",
      "   Fernseher       0.97      0.94      0.95       388\n",
      "        Haus       0.91      0.90      0.90       432\n",
      "     Heizung       0.97      0.97      0.97       403\n",
      "     Leitung       0.98      0.95      0.96       425\n",
      "       Licht       0.92      0.88      0.90       387\n",
      "     Lüftung       0.97      0.95      0.96       423\n",
      "        Ofen       0.79      0.77      0.78       388\n",
      "       Radio       0.98      0.96      0.97       404\n",
      "    Schraube       0.96      0.97      0.96       398\n",
      "     Spiegel       0.96      0.97      0.96       387\n",
      " Staubsauger       0.99      0.95      0.97       368\n",
      "          an       0.91      0.92      0.91       442\n",
      "         aus       0.88      0.90      0.89       401\n",
      "        kann       0.93      0.90      0.92       421\n",
      "       nicht       0.89      0.93      0.91       406\n",
      "       offen       0.80      0.81      0.81       437\n",
      "       other       0.93      0.97      0.95       914\n",
      "        warm       0.94      0.90      0.92       416\n",
      "   wunderbar       0.96      0.99      0.97       429\n",
      "\n",
      "    accuracy                           0.93      9060\n",
      "   macro avg       0.93      0.92      0.93      9060\n",
      "weighted avg       0.93      0.93      0.93      9060\n",
      "\n"
     ]
    }
   ],
   "source": [
    "\n",
    "# Define your best parameters if you have already tuned them\n",
    "best_params = {\n",
    "    'n_estimators': 300,\n",
    "    'max_features': 'auto',\n",
    "    'max_depth': None,\n",
    "    'min_samples_split': 5,\n",
    "    'min_samples_leaf': 1,\n",
    "    'bootstrap': False\n",
    "}\n",
    "\n",
    "# Initialize the Random Forest Classifier with best parameters\n",
    "rf_classifier = RandomForestClassifier(**best_params, random_state=42)\n",
    "\n",
    "# Train the classifier\n",
    "rf_classifier.fit(X_train_flat, y_train)\n",
    "\n",
    "# Predict on the test set\n",
    "rf_predictions = rf_classifier.predict(X_test_flat)\n",
    "\n",
    "# Evaluate the classifier\n",
    "print(\"Random Forest Classifier Performance:\")\n",
    "print(\"Accuracy:\", accuracy_score(y_test, rf_predictions))\n",
    "print(classification_report(y_test, rf_predictions))\n",
    "\n"
   ]
  },
  {
   "cell_type": "code",
   "execution_count": 17,
   "id": "76719a87-eb17-45e9-96e2-9288b789b348",
   "metadata": {},
   "outputs": [
    {
     "name": "stderr",
     "output_type": "stream",
     "text": [
      "C:\\ProgramData\\anaconda3\\Lib\\site-packages\\sklearn\\ensemble\\_forest.py:424: FutureWarning: `max_features='auto'` has been deprecated in 1.1 and will be removed in 1.3. To keep the past behaviour, explicitly set `max_features='sqrt'` or remove this parameter as it is also the default value for RandomForestClassifiers and ExtraTreesClassifiers.\n",
      "  warn(\n"
     ]
    },
    {
     "name": "stdout",
     "output_type": "stream",
     "text": [
      "Random Forest Classifier Performance:\n",
      "Accuracy: 0.9280353200883003\n",
      "              precision    recall  f1-score   support\n",
      "\n",
      "       Alarm       0.91      0.95      0.93       412\n",
      "    Brötchen       0.97      0.95      0.96       379\n",
      "   Fernseher       0.97      0.95      0.96       388\n",
      "        Haus       0.91      0.89      0.90       432\n",
      "     Heizung       0.97      0.97      0.97       403\n",
      "     Leitung       0.98      0.94      0.96       425\n",
      "       Licht       0.92      0.89      0.91       387\n",
      "     Lüftung       0.98      0.96      0.97       423\n",
      "        Ofen       0.79      0.77      0.78       388\n",
      "       Radio       0.97      0.96      0.97       404\n",
      "    Schraube       0.96      0.97      0.96       398\n",
      "     Spiegel       0.96      0.97      0.97       387\n",
      " Staubsauger       0.99      0.95      0.97       368\n",
      "          an       0.92      0.93      0.92       442\n",
      "         aus       0.88      0.90      0.89       401\n",
      "        kann       0.94      0.90      0.92       421\n",
      "       nicht       0.90      0.94      0.92       406\n",
      "       offen       0.80      0.80      0.80       437\n",
      "       other       0.92      0.97      0.95       914\n",
      "        warm       0.93      0.90      0.92       416\n",
      "   wunderbar       0.96      0.99      0.97       429\n",
      "\n",
      "    accuracy                           0.93      9060\n",
      "   macro avg       0.93      0.93      0.93      9060\n",
      "weighted avg       0.93      0.93      0.93      9060\n",
      "\n"
     ]
    }
   ],
   "source": [
    "\n",
    "# Define your best parameters if you have already tuned them\n",
    "best_params = {\n",
    "    'n_estimators': 400,\n",
    "    'max_features': 'auto',\n",
    "    'max_depth': None,\n",
    "    'min_samples_split': 5,\n",
    "    'min_samples_leaf': 1,\n",
    "    'bootstrap': False\n",
    "}\n",
    "\n",
    "# Initialize the Random Forest Classifier with best parameters\n",
    "rf_classifier = RandomForestClassifier(**best_params, random_state=42)\n",
    "\n",
    "# Train the classifier\n",
    "rf_classifier.fit(X_train_flat, y_train)\n",
    "\n",
    "# Predict on the test set\n",
    "rf_predictions = rf_classifier.predict(X_test_flat)\n",
    "\n",
    "# Evaluate the classifier\n",
    "print(\"Random Forest Classifier Performance:\")\n",
    "print(\"Accuracy:\", accuracy_score(y_test, rf_predictions))\n",
    "print(classification_report(y_test, rf_predictions))\n"
   ]
  },
  {
   "cell_type": "code",
   "execution_count": 18,
   "id": "77a31358-7594-48d5-a594-5488fe37f264",
   "metadata": {},
   "outputs": [
    {
     "name": "stderr",
     "output_type": "stream",
     "text": [
      "C:\\ProgramData\\anaconda3\\Lib\\site-packages\\sklearn\\ensemble\\_forest.py:424: FutureWarning: `max_features='auto'` has been deprecated in 1.1 and will be removed in 1.3. To keep the past behaviour, explicitly set `max_features='sqrt'` or remove this parameter as it is also the default value for RandomForestClassifiers and ExtraTreesClassifiers.\n",
      "  warn(\n"
     ]
    },
    {
     "name": "stdout",
     "output_type": "stream",
     "text": [
      "Random Forest Classifier Performance:\n",
      "Accuracy: 0.9275938189845475\n",
      "              precision    recall  f1-score   support\n",
      "\n",
      "       Alarm       0.91      0.94      0.93       412\n",
      "    Brötchen       0.98      0.95      0.96       379\n",
      "   Fernseher       0.96      0.94      0.95       388\n",
      "        Haus       0.90      0.88      0.89       432\n",
      "     Heizung       0.97      0.97      0.97       403\n",
      "     Leitung       0.97      0.95      0.96       425\n",
      "       Licht       0.92      0.90      0.91       387\n",
      "     Lüftung       0.97      0.95      0.96       423\n",
      "        Ofen       0.79      0.77      0.78       388\n",
      "       Radio       0.98      0.96      0.97       404\n",
      "    Schraube       0.96      0.97      0.96       398\n",
      "     Spiegel       0.95      0.97      0.96       387\n",
      " Staubsauger       0.98      0.95      0.96       368\n",
      "          an       0.92      0.93      0.93       442\n",
      "         aus       0.87      0.89      0.88       401\n",
      "        kann       0.94      0.90      0.92       421\n",
      "       nicht       0.90      0.93      0.92       406\n",
      "       offen       0.80      0.81      0.80       437\n",
      "       other       0.92      0.97      0.95       914\n",
      "        warm       0.93      0.91      0.92       416\n",
      "   wunderbar       0.96      0.99      0.97       429\n",
      "\n",
      "    accuracy                           0.93      9060\n",
      "   macro avg       0.93      0.93      0.93      9060\n",
      "weighted avg       0.93      0.93      0.93      9060\n",
      "\n"
     ]
    }
   ],
   "source": [
    "\n",
    "# Define your best parameters if you have already tuned them\n",
    "best_params = {\n",
    "    'n_estimators': 400,\n",
    "    'max_features': 'auto',\n",
    "    'max_depth': None,\n",
    "    'min_samples_split': 10,\n",
    "    'min_samples_leaf': 1,\n",
    "    'bootstrap': False\n",
    "}\n",
    "\n",
    "# Initialize the Random Forest Classifier with best parameters\n",
    "rf_classifier = RandomForestClassifier(**best_params, random_state=42)\n",
    "\n",
    "# Train the classifier\n",
    "rf_classifier.fit(X_train_flat, y_train)\n",
    "\n",
    "# Predict on the test set\n",
    "rf_predictions = rf_classifier.predict(X_test_flat)\n",
    "\n",
    "# Evaluate the classifier\n",
    "print(\"Random Forest Classifier Performance:\")\n",
    "print(\"Accuracy:\", accuracy_score(y_test, rf_predictions))\n",
    "print(classification_report(y_test, rf_predictions))\n"
   ]
  },
  {
   "cell_type": "code",
   "execution_count": 19,
   "id": "076e5d52-5d08-438d-a448-759502d7f6f0",
   "metadata": {},
   "outputs": [
    {
     "name": "stderr",
     "output_type": "stream",
     "text": [
      "C:\\ProgramData\\anaconda3\\Lib\\site-packages\\sklearn\\ensemble\\_forest.py:424: FutureWarning: `max_features='auto'` has been deprecated in 1.1 and will be removed in 1.3. To keep the past behaviour, explicitly set `max_features='sqrt'` or remove this parameter as it is also the default value for RandomForestClassifiers and ExtraTreesClassifiers.\n",
      "  warn(\n"
     ]
    },
    {
     "name": "stdout",
     "output_type": "stream",
     "text": [
      "Random Forest Classifier Performance:\n",
      "Accuracy: 0.9280353200883003\n",
      "              precision    recall  f1-score   support\n",
      "\n",
      "       Alarm       0.91      0.95      0.93       412\n",
      "    Brötchen       0.98      0.95      0.96       379\n",
      "   Fernseher       0.96      0.94      0.95       388\n",
      "        Haus       0.90      0.88      0.89       432\n",
      "     Heizung       0.97      0.98      0.97       403\n",
      "     Leitung       0.98      0.95      0.96       425\n",
      "       Licht       0.92      0.91      0.91       387\n",
      "     Lüftung       0.97      0.95      0.96       423\n",
      "        Ofen       0.79      0.77      0.78       388\n",
      "       Radio       0.98      0.96      0.97       404\n",
      "    Schraube       0.96      0.97      0.96       398\n",
      "     Spiegel       0.96      0.97      0.97       387\n",
      " Staubsauger       0.98      0.94      0.96       368\n",
      "          an       0.92      0.93      0.92       442\n",
      "         aus       0.87      0.90      0.88       401\n",
      "        kann       0.94      0.91      0.92       421\n",
      "       nicht       0.91      0.93      0.92       406\n",
      "       offen       0.80      0.81      0.80       437\n",
      "       other       0.92      0.97      0.94       914\n",
      "        warm       0.93      0.90      0.92       416\n",
      "   wunderbar       0.96      0.99      0.97       429\n",
      "\n",
      "    accuracy                           0.93      9060\n",
      "   macro avg       0.93      0.93      0.93      9060\n",
      "weighted avg       0.93      0.93      0.93      9060\n",
      "\n"
     ]
    }
   ],
   "source": [
    "\n",
    "# Define your best parameters if you have already tuned them\n",
    "best_params = {\n",
    "    'n_estimators': 500,\n",
    "    'max_features': 'auto',\n",
    "    'max_depth': None,\n",
    "    'min_samples_split': 10,\n",
    "    'min_samples_leaf': 1,\n",
    "    'bootstrap': False\n",
    "}\n",
    "\n",
    "# Initialize the Random Forest Classifier with best parameters\n",
    "rf_classifier = RandomForestClassifier(**best_params, random_state=42)\n",
    "\n",
    "# Train the classifier\n",
    "rf_classifier.fit(X_train_flat, y_train)\n",
    "\n",
    "# Predict on the test set\n",
    "rf_predictions = rf_classifier.predict(X_test_flat)\n",
    "\n",
    "# Evaluate the classifier\n",
    "print(\"Random Forest Classifier Performance:\")\n",
    "print(\"Accuracy:\", accuracy_score(y_test, rf_predictions))\n",
    "print(classification_report(y_test, rf_predictions))\n"
   ]
  },
  {
   "cell_type": "code",
   "execution_count": 20,
   "id": "5f3d326d-9bf9-4c40-b4f6-d2916e7a1a0a",
   "metadata": {},
   "outputs": [
    {
     "name": "stderr",
     "output_type": "stream",
     "text": [
      "C:\\ProgramData\\anaconda3\\Lib\\site-packages\\sklearn\\ensemble\\_forest.py:424: FutureWarning: `max_features='auto'` has been deprecated in 1.1 and will be removed in 1.3. To keep the past behaviour, explicitly set `max_features='sqrt'` or remove this parameter as it is also the default value for RandomForestClassifiers and ExtraTreesClassifiers.\n",
      "  warn(\n"
     ]
    },
    {
     "name": "stdout",
     "output_type": "stream",
     "text": [
      "Random Forest Classifier Performance:\n",
      "Accuracy: 0.9292494481236203\n",
      "              precision    recall  f1-score   support\n",
      "\n",
      "       Alarm       0.92      0.95      0.94       412\n",
      "    Brötchen       0.97      0.96      0.96       379\n",
      "   Fernseher       0.97      0.95      0.96       388\n",
      "        Haus       0.91      0.89      0.90       432\n",
      "     Heizung       0.97      0.97      0.97       403\n",
      "     Leitung       0.98      0.94      0.96       425\n",
      "       Licht       0.92      0.89      0.90       387\n",
      "     Lüftung       0.98      0.96      0.97       423\n",
      "        Ofen       0.79      0.78      0.79       388\n",
      "       Radio       0.97      0.96      0.97       404\n",
      "    Schraube       0.96      0.97      0.97       398\n",
      "     Spiegel       0.96      0.97      0.96       387\n",
      " Staubsauger       0.99      0.95      0.97       368\n",
      "          an       0.92      0.93      0.92       442\n",
      "         aus       0.88      0.90      0.89       401\n",
      "        kann       0.94      0.90      0.92       421\n",
      "       nicht       0.90      0.93      0.92       406\n",
      "       offen       0.81      0.81      0.81       437\n",
      "       other       0.92      0.97      0.95       914\n",
      "        warm       0.94      0.91      0.92       416\n",
      "   wunderbar       0.95      0.99      0.97       429\n",
      "\n",
      "    accuracy                           0.93      9060\n",
      "   macro avg       0.93      0.93      0.93      9060\n",
      "weighted avg       0.93      0.93      0.93      9060\n",
      "\n"
     ]
    }
   ],
   "source": [
    "\n",
    "# Define your best parameters if you have already tuned them\n",
    "best_params = {\n",
    "    'n_estimators': 500,\n",
    "    'max_features': 'auto',\n",
    "    'max_depth': None,\n",
    "    'min_samples_split': 5,\n",
    "    'min_samples_leaf': 1,\n",
    "    'bootstrap': False\n",
    "}\n",
    "\n",
    "# Initialize the Random Forest Classifier with best parameters\n",
    "rf_classifier = RandomForestClassifier(**best_params, random_state=42)\n",
    "\n",
    "# Train the classifier\n",
    "rf_classifier.fit(X_train_flat, y_train)\n",
    "\n",
    "# Predict on the test set\n",
    "rf_predictions = rf_classifier.predict(X_test_flat)\n",
    "\n",
    "# Evaluate the classifier\n",
    "print(\"Random Forest Classifier Performance:\")\n",
    "print(\"Accuracy:\", accuracy_score(y_test, rf_predictions))\n",
    "print(classification_report(y_test, rf_predictions))"
   ]
  },
  {
   "cell_type": "code",
   "execution_count": 21,
   "id": "642c4d65-1413-4e03-9dbb-c1373236dd0e",
   "metadata": {},
   "outputs": [
    {
     "name": "stderr",
     "output_type": "stream",
     "text": [
      "C:\\ProgramData\\anaconda3\\Lib\\site-packages\\sklearn\\ensemble\\_forest.py:424: FutureWarning: `max_features='auto'` has been deprecated in 1.1 and will be removed in 1.3. To keep the past behaviour, explicitly set `max_features='sqrt'` or remove this parameter as it is also the default value for RandomForestClassifiers and ExtraTreesClassifiers.\n",
      "  warn(\n"
     ]
    },
    {
     "name": "stdout",
     "output_type": "stream",
     "text": [
      "Random Forest Classifier Performance:\n",
      "Accuracy: 0.9291390728476822\n",
      "              precision    recall  f1-score   support\n",
      "\n",
      "       Alarm       0.92      0.95      0.93       412\n",
      "    Brötchen       0.97      0.95      0.96       379\n",
      "   Fernseher       0.96      0.94      0.95       388\n",
      "        Haus       0.91      0.89      0.90       432\n",
      "     Heizung       0.97      0.97      0.97       403\n",
      "     Leitung       0.98      0.95      0.97       425\n",
      "       Licht       0.92      0.89      0.91       387\n",
      "     Lüftung       0.97      0.96      0.96       423\n",
      "        Ofen       0.80      0.78      0.79       388\n",
      "       Radio       0.97      0.96      0.97       404\n",
      "    Schraube       0.96      0.97      0.97       398\n",
      "     Spiegel       0.96      0.97      0.97       387\n",
      " Staubsauger       0.98      0.95      0.97       368\n",
      "          an       0.92      0.93      0.92       442\n",
      "         aus       0.88      0.90      0.89       401\n",
      "        kann       0.94      0.90      0.92       421\n",
      "       nicht       0.90      0.93      0.92       406\n",
      "       offen       0.80      0.81      0.81       437\n",
      "       other       0.93      0.97      0.95       914\n",
      "        warm       0.94      0.90      0.92       416\n",
      "   wunderbar       0.96      0.99      0.97       429\n",
      "\n",
      "    accuracy                           0.93      9060\n",
      "   macro avg       0.93      0.93      0.93      9060\n",
      "weighted avg       0.93      0.93      0.93      9060\n",
      "\n"
     ]
    }
   ],
   "source": [
    "# Define your best parameters if you have already tuned them\n",
    "best_params = {\n",
    "    'n_estimators': 600,\n",
    "    'max_features': 'auto',\n",
    "    'max_depth': None,\n",
    "    'min_samples_split': 5,\n",
    "    'min_samples_leaf': 1,\n",
    "    'bootstrap': False\n",
    "}\n",
    "\n",
    "# Initialize the Random Forest Classifier with best parameters\n",
    "rf_classifier = RandomForestClassifier(**best_params, random_state=42)\n",
    "\n",
    "# Train the classifier\n",
    "rf_classifier.fit(X_train_flat, y_train)\n",
    "\n",
    "# Predict on the test set\n",
    "rf_predictions = rf_classifier.predict(X_test_flat)\n",
    "\n",
    "# Evaluate the classifier\n",
    "print(\"Random Forest Classifier Performance:\")\n",
    "print(\"Accuracy:\", accuracy_score(y_test, rf_predictions))\n",
    "print(classification_report(y_test, rf_predictions))"
   ]
  },
  {
   "cell_type": "code",
   "execution_count": 22,
   "id": "5b012e79-fb7c-41e7-a102-82b5dcb26058",
   "metadata": {},
   "outputs": [
    {
     "name": "stderr",
     "output_type": "stream",
     "text": [
      "C:\\ProgramData\\anaconda3\\Lib\\site-packages\\sklearn\\ensemble\\_forest.py:424: FutureWarning: `max_features='auto'` has been deprecated in 1.1 and will be removed in 1.3. To keep the past behaviour, explicitly set `max_features='sqrt'` or remove this parameter as it is also the default value for RandomForestClassifiers and ExtraTreesClassifiers.\n",
      "  warn(\n"
     ]
    },
    {
     "name": "stdout",
     "output_type": "stream",
     "text": [
      "Random Forest Classifier Performance:\n",
      "Accuracy: 0.9286975717439293\n",
      "              precision    recall  f1-score   support\n",
      "\n",
      "       Alarm       0.92      0.95      0.93       412\n",
      "    Brötchen       0.98      0.95      0.96       379\n",
      "   Fernseher       0.96      0.94      0.95       388\n",
      "        Haus       0.91      0.89      0.90       432\n",
      "     Heizung       0.96      0.97      0.97       403\n",
      "     Leitung       0.99      0.95      0.97       425\n",
      "       Licht       0.92      0.89      0.90       387\n",
      "     Lüftung       0.97      0.96      0.96       423\n",
      "        Ofen       0.79      0.78      0.78       388\n",
      "       Radio       0.97      0.97      0.97       404\n",
      "    Schraube       0.96      0.97      0.97       398\n",
      "     Spiegel       0.96      0.97      0.97       387\n",
      " Staubsauger       0.98      0.95      0.97       368\n",
      "          an       0.92      0.93      0.92       442\n",
      "         aus       0.88      0.90      0.89       401\n",
      "        kann       0.94      0.90      0.92       421\n",
      "       nicht       0.90      0.93      0.91       406\n",
      "       offen       0.80      0.81      0.81       437\n",
      "       other       0.93      0.97      0.95       914\n",
      "        warm       0.94      0.91      0.92       416\n",
      "   wunderbar       0.96      0.99      0.97       429\n",
      "\n",
      "    accuracy                           0.93      9060\n",
      "   macro avg       0.93      0.93      0.93      9060\n",
      "weighted avg       0.93      0.93      0.93      9060\n",
      "\n"
     ]
    }
   ],
   "source": [
    "# Define your best parameters if you have already tuned them\n",
    "best_params = {\n",
    "    'n_estimators': 700,\n",
    "    'max_features': 'auto',\n",
    "    'max_depth': None,\n",
    "    'min_samples_split': 5,\n",
    "    'min_samples_leaf': 1,\n",
    "    'bootstrap': False\n",
    "}\n",
    "\n",
    "# Initialize the Random Forest Classifier with best parameters\n",
    "rf_classifier = RandomForestClassifier(**best_params, random_state=42)\n",
    "\n",
    "# Train the classifier\n",
    "rf_classifier.fit(X_train_flat, y_train)\n",
    "\n",
    "# Predict on the test set\n",
    "rf_predictions = rf_classifier.predict(X_test_flat)\n",
    "\n",
    "# Evaluate the classifier\n",
    "print(\"Random Forest Classifier Performance:\")\n",
    "print(\"Accuracy:\", accuracy_score(y_test, rf_predictions))\n",
    "print(classification_report(y_test, rf_predictions))"
   ]
  },
  {
   "cell_type": "code",
   "execution_count": null,
   "id": "0b1518de-1acd-4e07-a7a5-089d1d522f1a",
   "metadata": {},
   "outputs": [],
   "source": []
  },
  {
   "cell_type": "code",
   "execution_count": 23,
   "id": "825bd350-e6fa-4118-bc66-93386c48efef",
   "metadata": {},
   "outputs": [
    {
     "name": "stderr",
     "output_type": "stream",
     "text": [
      "C:\\ProgramData\\anaconda3\\Lib\\site-packages\\sklearn\\ensemble\\_forest.py:424: FutureWarning: `max_features='auto'` has been deprecated in 1.1 and will be removed in 1.3. To keep the past behaviour, explicitly set `max_features='sqrt'` or remove this parameter as it is also the default value for RandomForestClassifiers and ExtraTreesClassifiers.\n",
      "  warn(\n"
     ]
    },
    {
     "name": "stdout",
     "output_type": "stream",
     "text": [
      "Random Forest Classifier Performance:\n",
      "Accuracy: 0.9292494481236203\n",
      "              precision    recall  f1-score   support\n",
      "\n",
      "       Alarm       0.92      0.95      0.93       412\n",
      "    Brötchen       0.97      0.95      0.96       379\n",
      "   Fernseher       0.96      0.95      0.95       388\n",
      "        Haus       0.91      0.89      0.90       432\n",
      "     Heizung       0.97      0.97      0.97       403\n",
      "     Leitung       0.98      0.96      0.97       425\n",
      "       Licht       0.92      0.90      0.91       387\n",
      "     Lüftung       0.97      0.96      0.96       423\n",
      "        Ofen       0.79      0.77      0.78       388\n",
      "       Radio       0.97      0.96      0.97       404\n",
      "    Schraube       0.96      0.97      0.97       398\n",
      "     Spiegel       0.96      0.97      0.97       387\n",
      " Staubsauger       0.98      0.95      0.97       368\n",
      "          an       0.92      0.93      0.93       442\n",
      "         aus       0.88      0.90      0.89       401\n",
      "        kann       0.94      0.90      0.92       421\n",
      "       nicht       0.90      0.93      0.92       406\n",
      "       offen       0.81      0.81      0.81       437\n",
      "       other       0.93      0.97      0.95       914\n",
      "        warm       0.94      0.90      0.92       416\n",
      "   wunderbar       0.96      0.99      0.97       429\n",
      "\n",
      "    accuracy                           0.93      9060\n",
      "   macro avg       0.93      0.93      0.93      9060\n",
      "weighted avg       0.93      0.93      0.93      9060\n",
      "\n"
     ]
    }
   ],
   "source": [
    "# Define your best parameters if you have already tuned them\n",
    "best_params = {\n",
    "    'n_estimators': 800,\n",
    "    'max_features': 'auto',\n",
    "    'max_depth': None,\n",
    "    'min_samples_split': 5,\n",
    "    'min_samples_leaf': 1,\n",
    "    'bootstrap': False\n",
    "}\n",
    "\n",
    "# Initialize the Random Forest Classifier with best parameters\n",
    "rf_classifier = RandomForestClassifier(**best_params, random_state=42)\n",
    "\n",
    "# Train the classifier\n",
    "rf_classifier.fit(X_train_flat, y_train)\n",
    "\n",
    "# Predict on the test set\n",
    "rf_predictions = rf_classifier.predict(X_test_flat)\n",
    "\n",
    "# Evaluate the classifier\n",
    "print(\"Random Forest Classifier Performance:\")\n",
    "print(\"Accuracy:\", accuracy_score(y_test, rf_predictions))\n",
    "print(classification_report(y_test, rf_predictions))"
   ]
  },
  {
   "cell_type": "code",
   "execution_count": null,
   "id": "264bd01d-ce0d-4445-a8a7-c694fb0393e4",
   "metadata": {},
   "outputs": [
    {
     "name": "stderr",
     "output_type": "stream",
     "text": [
      "C:\\ProgramData\\anaconda3\\Lib\\site-packages\\sklearn\\ensemble\\_forest.py:424: FutureWarning: `max_features='auto'` has been deprecated in 1.1 and will be removed in 1.3. To keep the past behaviour, explicitly set `max_features='sqrt'` or remove this parameter as it is also the default value for RandomForestClassifiers and ExtraTreesClassifiers.\n",
      "  warn(\n"
     ]
    }
   ],
   "source": [
    "# Define your best parameters if you have already tuned them\n",
    "best_params = {\n",
    "    'n_estimators': 900,\n",
    "    'max_features': 'auto',\n",
    "    'max_depth': None,\n",
    "    'min_samples_split': 5,\n",
    "    'min_samples_leaf': 1,\n",
    "    'bootstrap': False\n",
    "}\n",
    "\n",
    "# Initialize the Random Forest Classifier with best parameters\n",
    "rf_classifier = RandomForestClassifier(**best_params, random_state=42)\n",
    "\n",
    "# Train the classifier\n",
    "rf_classifier.fit(X_train_flat, y_train)\n",
    "\n",
    "# Predict on the test set\n",
    "rf_predictions = rf_classifier.predict(X_test_flat)\n",
    "\n",
    "# Evaluate the classifier\n",
    "print(\"Random Forest Classifier Performance:\")\n",
    "print(\"Accuracy:\", accuracy_score(y_test, rf_predictions))\n",
    "print(classification_report(y_test, rf_predictions))\n",
    "\n",
    "# Evaluate the classifier\n",
    "accuracy = accuracy_score(y_test, rf_predictions)\n",
    "report = classification_report(y_test, rf_predictions, digits=4)\n",
    "\n",
    "print(\"Random Forest Classifier Performance:\")\n",
    "print(f\"Accuracy: {accuracy:.4f}\")\n",
    "print(report)\n",
    "\n",
    "# Generate the confusion matrix\n",
    "confmat = confusion_matrix(y_test, rf_predictions)\n",
    "\n",
    "# Load labels\n",
    "y_labels = pd.read_csv(\"../Files/metadata/development.csv\")['word']\n",
    "\n",
    "# Define class names (replace with actual class names from your dataset)\n",
    "classes = y_labels.unique().tolist()\n",
    "\n",
    "plt.figure(figsize=(10, 7))\n",
    "heatmap = sns.heatmap(confmat, fmt='d', cmap='Blues', xticklabels=classes, yticklabels=classes)\n",
    "heatmap.set_xticklabels(heatmap.get_xticklabels(), rotation=45, ha='right')\n",
    "plt.ylabel('Actual')\n",
    "plt.xlabel('Predicted')\n",
    "plt.title('Confusion Matrix for Random Forest Classifier')\n",
    "\n",
    "\n",
    "# Save the confusion matrix as a PNG file\n",
    "plt.savefig('confusion_matrix.png')\n",
    "\n",
    "plt.show()"
   ]
  },
  {
   "cell_type": "code",
   "execution_count": 25,
   "id": "4ea23c3b-fb2a-4ac4-98d6-2edf7c78db75",
   "metadata": {},
   "outputs": [
    {
     "name": "stderr",
     "output_type": "stream",
     "text": [
      "C:\\ProgramData\\anaconda3\\Lib\\site-packages\\sklearn\\ensemble\\_forest.py:424: FutureWarning: `max_features='auto'` has been deprecated in 1.1 and will be removed in 1.3. To keep the past behaviour, explicitly set `max_features='sqrt'` or remove this parameter as it is also the default value for RandomForestClassifiers and ExtraTreesClassifiers.\n",
      "  warn(\n"
     ]
    },
    {
     "name": "stdout",
     "output_type": "stream",
     "text": [
      "Random Forest Classifier Performance:\n",
      "Accuracy: 0.9291390728476822\n",
      "              precision    recall  f1-score   support\n",
      "\n",
      "       Alarm       0.92      0.95      0.94       412\n",
      "    Brötchen       0.97      0.95      0.96       379\n",
      "   Fernseher       0.97      0.94      0.95       388\n",
      "        Haus       0.91      0.89      0.90       432\n",
      "     Heizung       0.97      0.97      0.97       403\n",
      "     Leitung       0.98      0.95      0.96       425\n",
      "       Licht       0.92      0.89      0.91       387\n",
      "     Lüftung       0.97      0.96      0.96       423\n",
      "        Ofen       0.79      0.78      0.78       388\n",
      "       Radio       0.98      0.97      0.97       404\n",
      "    Schraube       0.96      0.97      0.97       398\n",
      "     Spiegel       0.96      0.97      0.97       387\n",
      " Staubsauger       0.98      0.95      0.97       368\n",
      "          an       0.93      0.93      0.93       442\n",
      "         aus       0.88      0.90      0.89       401\n",
      "        kann       0.94      0.90      0.92       421\n",
      "       nicht       0.90      0.93      0.92       406\n",
      "       offen       0.80      0.81      0.81       437\n",
      "       other       0.92      0.97      0.94       914\n",
      "        warm       0.93      0.91      0.92       416\n",
      "   wunderbar       0.95      0.99      0.97       429\n",
      "\n",
      "    accuracy                           0.93      9060\n",
      "   macro avg       0.93      0.93      0.93      9060\n",
      "weighted avg       0.93      0.93      0.93      9060\n",
      "\n"
     ]
    }
   ],
   "source": [
    "# Define your best parameters if you have already tuned them\n",
    "best_params = {\n",
    "    'n_estimators': 1100,\n",
    "    'max_features': 'auto',\n",
    "    'max_depth': None,\n",
    "    'min_samples_split': 5,\n",
    "    'min_samples_leaf': 1,\n",
    "    'bootstrap': False\n",
    "}\n",
    "\n",
    "# Initialize the Random Forest Classifier with best parameters\n",
    "rf_classifier = RandomForestClassifier(**best_params, random_state=42)\n",
    "\n",
    "# Train the classifier\n",
    "rf_classifier.fit(X_train_flat, y_train)\n",
    "\n",
    "# Predict on the test set\n",
    "rf_predictions = rf_classifier.predict(X_test_flat)\n",
    "\n",
    "# Evaluate the classifier\n",
    "print(\"Random Forest Classifier Performance:\")\n",
    "print(\"Accuracy:\", accuracy_score(y_test, rf_predictions))\n",
    "print(classification_report(y_test, rf_predictions))\n",
    "\n",
    "# Generate the confusion matrix\n",
    "confmat = confusion_matrix(y_test, rf_predictions)\n",
    "\n",
    "# Load labels\n",
    "y_labels = pd.read_csv(\"../Files/metadata/development.csv\")['word']\n",
    "\n",
    "# Define class names (replace with actual class names from your dataset)\n",
    "classes = y_labels.unique().tolist()\n",
    "\n",
    "plt.figure(figsize=(10, 7))\n",
    "heatmap = sns.heatmap(confmat, fmt='d', cmap='Blues', xticklabels=classes, yticklabels=classes)\n",
    "heatmap.set_xticklabels(heatmap.get_xticklabels(), rotation=45, ha='right')\n",
    "plt.ylabel('Actual')\n",
    "plt.xlabel('Predicted')\n",
    "plt.title('Confusion Matrix for Random Forest Classifier')\n",
    "\n",
    "\n",
    "# Save the confusion matrix as a PNG file\n",
    "plt.savefig('confusion_matrix.png')\n",
    "\n",
    "plt.show()"
   ]
  },
  {
   "cell_type": "code",
   "execution_count": null,
   "id": "83eb6413-da0f-4bf7-a385-854ad9328b58",
   "metadata": {},
   "outputs": [
    {
     "name": "stderr",
     "output_type": "stream",
     "text": [
      "C:\\ProgramData\\anaconda3\\Lib\\site-packages\\sklearn\\ensemble\\_forest.py:424: FutureWarning: `max_features='auto'` has been deprecated in 1.1 and will be removed in 1.3. To keep the past behaviour, explicitly set `max_features='sqrt'` or remove this parameter as it is also the default value for RandomForestClassifiers and ExtraTreesClassifiers.\n",
      "  warn(\n"
     ]
    }
   ],
   "source": []
  },
  {
   "cell_type": "code",
   "execution_count": null,
   "id": "a698f745-44f6-4305-a3fd-37507b86ff77",
   "metadata": {},
   "outputs": [],
   "source": []
  },
  {
   "cell_type": "code",
   "execution_count": null,
   "id": "a11003d3-1216-40dc-8c0a-7ee189cf1b81",
   "metadata": {},
   "outputs": [],
   "source": []
  }
 ],
 "metadata": {
  "kernelspec": {
   "display_name": "Python 3 (ipykernel)",
   "language": "python",
   "name": "python3"
  },
  "language_info": {
   "codemirror_mode": {
    "name": "ipython",
    "version": 3
   },
   "file_extension": ".py",
   "mimetype": "text/x-python",
   "name": "python",
   "nbconvert_exporter": "python",
   "pygments_lexer": "ipython3",
   "version": "3.11.7"
  }
 },
 "nbformat": 4,
 "nbformat_minor": 5
}
