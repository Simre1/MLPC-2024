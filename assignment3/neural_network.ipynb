{
 "cells": [
  {
   "cell_type": "code",
   "execution_count": 1,
   "id": "f23de171",
   "metadata": {},
   "outputs": [],
   "source": [
    "import sys\n",
    "sys.path.append('../libs')  # Update this path according to the location of your 'dataset' module\n",
    "import dataset\n",
    "import preprocessing\n",
    "import classes\n",
    "import numpy as np\n",
    "from sklearn.preprocessing import normalize\n",
    "from sklearn.neighbors import NearestNeighbors\n",
    "from sklearn.model_selection import train_test_split\n",
    "from sklearn.utils.extmath import weighted_mode\n",
    "from sklearn.decomposition import PCA\n",
    "from sklearn.metrics import f1_score\n",
    "from sklearn.preprocessing import RobustScaler\n",
    "\n",
    "import torch\n",
    "import torch.nn as nn\n",
    "import torch.optim as optim\n",
    "from torch.utils.data import DataLoader"
   ]
  },
  {
   "cell_type": "code",
   "execution_count": 2,
   "id": "dbdffb04",
   "metadata": {},
   "outputs": [
    {
     "data": {
      "text/plain": [
       "'cuda'"
      ]
     },
     "execution_count": 2,
     "metadata": {},
     "output_type": "execute_result"
    }
   ],
   "source": [
    "device = \"cuda\" if torch.cuda.is_available() else \"cpu\"\n",
    "device"
   ]
  },
  {
   "cell_type": "code",
   "execution_count": 3,
   "id": "16fd7654",
   "metadata": {},
   "outputs": [],
   "source": [
    "# Calculate accuracy (a classification metric)\n",
    "def accuracy_fn(y_true, y_pred):\n",
    "    \"\"\"Calculates accuracy between truth labels and predictions.\n",
    "\n",
    "    Args:\n",
    "        y_true (torch.Tensor): Truth labels for predictions.\n",
    "        y_pred (torch.Tensor): Predictions to be compared to predictions.\n",
    "\n",
    "    Returns:\n",
    "        [torch.float]: Accuracy value between y_true and y_pred, e.g. 78.45\n",
    "    \"\"\"\n",
    "    correct = torch.eq(y_true, y_pred).sum().item()\n",
    "    acc = (correct / len(y_pred)) * 100\n",
    "    return acc"
   ]
  },
  {
   "cell_type": "code",
   "execution_count": 4,
   "id": "0725c0dc",
   "metadata": {},
   "outputs": [],
   "source": [
    "from timeit import default_timer as timer \n",
    "def print_train_time(start: float, end: float, device: torch.device = None):\n",
    "    \"\"\"Prints difference between start and end time.\n",
    "\n",
    "    Args:\n",
    "        start (float): Start time of computation (preferred in timeit format). \n",
    "        end (float): End time of computation.\n",
    "        device ([type], optional): Device that compute is running on. Defaults to None.\n",
    "\n",
    "    Returns:\n",
    "        float: time between start and end in seconds (higher is longer).\n",
    "    \"\"\"\n",
    "    total_time = end - start\n",
    "    print(f\"Train time on {device}: {total_time:.3f} seconds\")\n",
    "    return total_time"
   ]
  },
  {
   "cell_type": "code",
   "execution_count": 5,
   "id": "a9d3a87d",
   "metadata": {},
   "outputs": [],
   "source": [
    "X = dataset.data()\n",
    "y = np.array(list(map(classes.label_to_class, dataset.labels_array())))\n",
    "\n",
    "X_train, X_test, y_train, y_test = train_test_split(X, y, test_size=0.2, random_state=42)"
   ]
  },
  {
   "cell_type": "code",
   "execution_count": 6,
   "id": "5f6d2bfc",
   "metadata": {},
   "outputs": [
    {
     "data": {
      "text/plain": [
       "array(['brötchen', 'kann', 'staubsauger', ..., 'other', 'other', 'other'],\n",
       "      dtype='<U11')"
      ]
     },
     "execution_count": 6,
     "metadata": {},
     "output_type": "execute_result"
    }
   ],
   "source": [
    "X.shape\n",
    "y.shape\n",
    "dataset.labels_array()"
   ]
  },
  {
   "cell_type": "code",
   "execution_count": 7,
   "id": "4e5a3775",
   "metadata": {},
   "outputs": [],
   "source": [
    "X = dataset.data()[:, 12:76, :]\n",
    "y = np.array(list(map(classes.label_to_class, dataset.labels_array())))\n",
    "\n",
    "X_train, X_test, y_train, y_test = train_test_split(X, y, test_size=0.2, random_state=42)"
   ]
  },
  {
   "cell_type": "code",
   "execution_count": 8,
   "id": "d6876659",
   "metadata": {},
   "outputs": [],
   "source": [
    "import torch\n",
    "from torch.utils.data import TensorDataset, DataLoader\n",
    "\n",
    "# Assuming X_train, X_test, y_train, y_test are numpy arrays\n",
    "# Convert them to PyTorch tensors\n",
    "X_train_tensor = torch.tensor(X_train, dtype=torch.float32)\n",
    "X_test_tensor = torch.tensor(X_test, dtype=torch.float32)\n",
    "y_train_tensor = torch.tensor(y_train, dtype=torch.long)  # Assuming y_train contains integer labels\n",
    "y_test_tensor = torch.tensor(y_test, dtype=torch.long)    # Assuming y_test contains integer labels\n",
    "\n",
    "X_train_tensor = X_train_tensor.unsqueeze(dim=1)\n",
    "X_test_tensor = X_test_tensor.unsqueeze(dim=1)\n",
    "\n",
    "# Create training and test datasets\n",
    "train_dataset = TensorDataset(X_train_tensor, y_train_tensor)\n",
    "test_dataset = TensorDataset(X_test_tensor, y_test_tensor)"
   ]
  },
  {
   "cell_type": "code",
   "execution_count": 9,
   "id": "9819762f",
   "metadata": {},
   "outputs": [
    {
     "name": "stdout",
     "output_type": "stream",
     "text": [
      "Dataloaders: (<torch.utils.data.dataloader.DataLoader object at 0x0000020C7C1646D0>, <torch.utils.data.dataloader.DataLoader object at 0x0000020C7C1642B0>)\n",
      "Length of train dataloader: 1132 batches of 32\n",
      "Length of test dataloader: 283 batches of 32\n"
     ]
    }
   ],
   "source": [
    "from torch.utils.data import DataLoader\n",
    "\n",
    "# Setup the batch size hyperparameter\n",
    "BATCH_SIZE = 32\n",
    "\n",
    "# Turn datasets into iterables (batches)\n",
    "train_dataloader = DataLoader(train_dataset, # dataset to turn into iterable\n",
    "    batch_size=BATCH_SIZE, # how many samples per batch? \n",
    "    drop_last=True,\n",
    "    shuffle=True # shuffle data every epoch?\n",
    ")\n",
    "\n",
    "test_dataloader = DataLoader(test_dataset,\n",
    "    batch_size=BATCH_SIZE,\n",
    "    drop_last=True,\n",
    "    shuffle=False # don't necessarily have to shuffle the testing data\n",
    ")\n",
    "\n",
    "# Let's check out what we've created\n",
    "print(f\"Dataloaders: {train_dataloader, test_dataloader}\") \n",
    "print(f\"Length of train dataloader: {len(train_dataloader)} batches of {BATCH_SIZE}\")\n",
    "print(f\"Length of test dataloader: {len(test_dataloader)} batches of {BATCH_SIZE}\")"
   ]
  },
  {
   "cell_type": "code",
   "execution_count": 10,
   "id": "584d158f",
   "metadata": {},
   "outputs": [],
   "source": [
    "class AudioClassifierCNN(nn.Module):\n",
    "    def __init__(self, num_classes):\n",
    "        super(AudioClassifierCNN, self).__init__()\n",
    "        \n",
    "        self.conv1 = nn.Conv2d(in_channels=1, out_channels=16, kernel_size=3, stride=1, padding=1)\n",
    "        self.conv2 = nn.Conv2d(in_channels=16, out_channels=32, kernel_size=3, stride=1, padding=1)\n",
    "        self.conv3 = nn.Conv2d(in_channels=32, out_channels=64, kernel_size=3, stride=1, padding=1)\n",
    "        self.conv4 = nn.Conv2d(in_channels=64, out_channels=128, kernel_size=3, stride=1, padding=1)\n",
    "        \n",
    "        self.pool = nn.MaxPool2d(kernel_size=2, stride=2)\n",
    "        \n",
    "        self.fc1 = nn.Linear(128 * 4 * 2, 512)\n",
    "        self.fc2 = nn.Linear(512, num_classes)\n",
    "        \n",
    "        self.relu = nn.ReLU()\n",
    "        self.softmax = nn.Softmax(dim=0)\n",
    "        \n",
    "    def forward(self, x):\n",
    "        x = self.relu(self.conv1(x))\n",
    "        x = self.pool(x)\n",
    "        x = self.relu(self.conv2(x))\n",
    "        x = self.pool(x)\n",
    "        x = self.relu(self.conv3(x))\n",
    "        x = self.pool(x)\n",
    "        x = self.relu(self.conv4(x))\n",
    "        x = self.pool(x)\n",
    "        \n",
    "        # Reshape the tensor to have a two-dimensional shape\n",
    "        x = x.view(-1, 128 * 4 * 2)\n",
    "        \n",
    "        x = self.relu(self.fc1(x))\n",
    "        x = self.fc2(x)\n",
    "        \n",
    "        return x"
   ]
  },
  {
   "cell_type": "code",
   "execution_count": 11,
   "id": "2f916f0c",
   "metadata": {},
   "outputs": [],
   "source": [
    "def train_step(model, data_loader, loss_fn, optimizer, accuracy_fn, device):\n",
    "    train_loss, train_acc = 0, 0\n",
    "    model.to(device)\n",
    "    model.train()  # Set the model to training mode\n",
    "    for batch, (X, y) in enumerate(data_loader):\n",
    "        # Send data to GPU\n",
    "        X, y = X.to(device), y.to(device)\n",
    "\n",
    "        # 1. Forward pass\n",
    "        y_pred = model(X)\n",
    "        \n",
    "        # 2. Calculate loss\n",
    "        loss = loss_fn(y_pred, y)\n",
    "        train_loss += loss.item()  # Accumulate the loss\n",
    "        train_acc += accuracy_fn(y_true=y, y_pred=y_pred.argmax(dim=1))  # Accumulate the accuracy\n",
    "\n",
    "        # 3. Optimizer zero grad\n",
    "        optimizer.zero_grad()\n",
    "\n",
    "        # 4. Loss backward\n",
    "        loss.backward()\n",
    "\n",
    "        # 5. Optimizer step\n",
    "        optimizer.step()\n",
    "\n",
    "    # Calculate loss and accuracy per epoch and print out\n",
    "    train_loss /= len(data_loader)\n",
    "    train_acc /= len(data_loader)\n",
    "    print(f\"Train loss: {train_loss:.5f} | Train accuracy: {train_acc:.2f}%\")\n",
    "\n",
    "def test_step(data_loader, model, loss_fn, accuracy_fn, device):\n",
    "    test_loss, test_acc = 0, 0\n",
    "    model.to(device)\n",
    "    model.eval()  # Set the model to evaluation mode\n",
    "    with torch.no_grad():  # Turn off gradient computation\n",
    "        for X, y in data_loader:\n",
    "            # Send data to GPU\n",
    "            X, y = X.to(device), y.to(device)\n",
    "\n",
    "            # 1. Forward pass\n",
    "            test_pred = model(X)\n",
    "\n",
    "            # 2. Calculate loss and accuracy\n",
    "            test_loss += loss_fn(test_pred, y).item()  # Accumulate the loss\n",
    "            test_acc += accuracy_fn(y_true=y, y_pred=test_pred.argmax(dim=1))  # Accumulate the accuracy\n",
    "\n",
    "        # Adjust metrics and print out\n",
    "        test_loss /= len(data_loader)\n",
    "        test_acc /= len(data_loader)\n",
    "        print(f\"Test loss: {test_loss:.5f} | Test accuracy: {test_acc:.2f}%\\n\")\n"
   ]
  },
  {
   "cell_type": "code",
   "execution_count": 12,
   "id": "d2ab8385",
   "metadata": {},
   "outputs": [],
   "source": [
    "# Initialize the model\n",
    "model = AudioClassifierCNN(len(classes.CLASSES))\n",
    "\n",
    "# Define loss function and optimizer\n",
    "loss_fn = nn.CrossEntropyLoss()\n",
    "optimizer = optim.Adam(model.parameters(), lr=0.001)"
   ]
  },
  {
   "cell_type": "code",
   "execution_count": 13,
   "id": "1a0716e7",
   "metadata": {
    "scrolled": true
   },
   "outputs": [
    {
     "data": {
      "application/vnd.jupyter.widget-view+json": {
       "model_id": "f4e900fcfe654dc38c2b50c0aad6931c",
       "version_major": 2,
       "version_minor": 0
      },
      "text/plain": [
       "  0%|          | 0/3 [00:00<?, ?it/s]"
      ]
     },
     "metadata": {},
     "output_type": "display_data"
    },
    {
     "name": "stdout",
     "output_type": "stream",
     "text": [
      "Epoch: 0\n",
      "---------\n",
      "Train loss: 0.65682 | Train accuracy: 79.11%\n",
      "Test loss: 0.26419 | Test accuracy: 90.58%\n",
      "\n",
      "Epoch: 1\n",
      "---------\n",
      "Train loss: 0.23078 | Train accuracy: 91.99%\n",
      "Test loss: 0.21070 | Test accuracy: 92.70%\n",
      "\n",
      "Epoch: 2\n",
      "---------\n",
      "Train loss: 0.17401 | Train accuracy: 93.98%\n",
      "Test loss: 0.17592 | Test accuracy: 93.89%\n",
      "\n",
      "Train time on cuda: 23.996 seconds\n"
     ]
    }
   ],
   "source": [
    "torch.manual_seed(42)\n",
    "\n",
    "# Measure time\n",
    "from timeit import default_timer as timer\n",
    "train_time_start_model_2 = timer()\n",
    "# Import tqdm for progress bar\n",
    "from tqdm.auto import tqdm\n",
    "\n",
    "# Train and test model \n",
    "epochs = 3\n",
    "for epoch in tqdm(range(epochs)):\n",
    "    print(f\"Epoch: {epoch}\\n---------\")\n",
    "    train_step(data_loader=train_dataloader, \n",
    "        model=model, \n",
    "        loss_fn=loss_fn,\n",
    "        optimizer=optimizer,\n",
    "        accuracy_fn=accuracy_fn,\n",
    "        device=device\n",
    "    )\n",
    "    test_step(data_loader=test_dataloader,\n",
    "        model=model,\n",
    "        loss_fn=loss_fn,\n",
    "        accuracy_fn=accuracy_fn,\n",
    "        device=device\n",
    "    )\n",
    "\n",
    "train_time_end_model_2 = timer()\n",
    "total_train_time_model_2 = print_train_time(start=train_time_start_model_2,\n",
    "                                           end=train_time_end_model_2,\n",
    "                                           device=device)"
   ]
  },
  {
   "cell_type": "code",
   "execution_count": 14,
   "id": "3b48c8aa",
   "metadata": {},
   "outputs": [],
   "source": [
    "def make_predictions(model: torch.nn.Module, data: list, device: torch.device = device):\n",
    "    pred_probs = []\n",
    "    model.eval()\n",
    "    with torch.inference_mode():\n",
    "        for sample in data:\n",
    "            # Prepare sample\n",
    "            sample = torch.unsqueeze(sample, dim=0).to(device) # Add an extra dimension and send sample to device\n",
    "            \n",
    "            # Forward pass (model outputs raw logit)\n",
    "            pred_logit = model(sample)\n",
    "            print(pred_logit)\n",
    "\n",
    "            # Get prediction probability (logit -> prediction probability)\n",
    "            pred_prob = torch.softmax(pred_logit.squeeze(), dim=0) # note: perform softmax on the \"logits\" dimension, not \"batch\" dimension (in this case we have a batch size of 1, so can perform on dim=0)\n",
    "\n",
    "            # Get pred_prob off GPU for further calculations\n",
    "            pred_probs.append(pred_prob.cpu())\n",
    "            \n",
    "    # Stack the pred_probs to turn list into a tensor\n",
    "    return torch.stack(pred_probs)"
   ]
  },
  {
   "cell_type": "code",
   "execution_count": 15,
   "id": "cbb85c84",
   "metadata": {},
   "outputs": [
    {
     "name": "stdout",
     "output_type": "stream",
     "text": [
      "Test sample image shape: torch.Size([1, 64, 44])\n",
      "Test sample label: 4 (ofen)\n"
     ]
    }
   ],
   "source": [
    "import random\n",
    "# random.seed(42)\n",
    "\n",
    "test_samples = []\n",
    "test_labels = []\n",
    "\n",
    "# Sample from the test dataset until we have 9 samples with non-zero labels\n",
    "while len(test_samples) < 20:\n",
    "    sample, label = random.choice(list(test_dataset))\n",
    "    if label != 0:\n",
    "        test_samples.append(sample)\n",
    "        test_labels.append(label)\n",
    "\n",
    "# View the first test sample shape and label\n",
    "print(f\"Test sample image shape: {test_samples[0].shape}\\nTest sample label: {test_labels[0]} ({classes.class_to_label(int(test_labels[0]))})\")"
   ]
  },
  {
   "cell_type": "code",
   "execution_count": 16,
   "id": "48a22205",
   "metadata": {},
   "outputs": [
    {
     "name": "stdout",
     "output_type": "stream",
     "text": [
      "tensor([[ 3.6067, -3.4904, -2.2491, -1.9812,  6.2511, -3.5259, -3.4650, -3.0060,\n",
      "         -3.5605, -5.7585, -5.9367]], device='cuda:0')\n",
      "tensor([[  4.6130,  -3.7530,  -0.3713, -12.1709,   1.5378,  -5.8805,  -4.0090,\n",
      "          -5.7384,   5.5566,  -4.4072,  -8.6304]], device='cuda:0')\n",
      "tensor([[  5.0623,   0.3548,  -6.2104, -11.7869,  -2.8870,  -0.8515,   4.5567,\n",
      "         -10.2974,  -8.8127,  -6.3412,   1.0767]], device='cuda:0')\n",
      "tensor([[  9.1419, -18.8646, -10.8928,   1.2599,  -3.6175,  -4.9628,  -9.6432,\n",
      "          13.9757, -11.4084,  -9.1713,  -7.2149]], device='cuda:0')\n",
      "tensor([[ 3.6718,  1.7906, -6.8565, -3.5220, -3.2522,  5.9940,  4.6862, -8.4402,\n",
      "         -9.8480, -8.3448, -0.8921]], device='cuda:0')\n",
      "tensor([[ 2.4595, -4.4173,  5.0771, -4.9190, -0.5255, -3.1641, -2.6378, -5.9202,\n",
      "         -4.5359, -1.6359, -2.1026]], device='cuda:0')\n",
      "tensor([[ 4.5940, -5.9634, -3.1526, -2.1959,  4.3513, -6.1056, -5.6029, -2.6875,\n",
      "         -3.3535, -1.9919, -3.1342]], device='cuda:0')\n",
      "tensor([[  7.3238, -13.1152,  -8.4518,  -3.5313,  -4.5936,  -3.9242,  -5.8310,\n",
      "           9.2711,  -5.9208,  -6.0862,  -5.7126]], device='cuda:0')\n",
      "tensor([[ 5.2863, -6.2126, -4.4405, -3.3222,  7.6805, -3.7426, -6.2407, -3.4128,\n",
      "         -2.0777, -6.9407, -9.0346]], device='cuda:0')\n",
      "tensor([[  7.6487,  -3.7097,   2.3320,  -5.8614,  -5.9933,  -9.8305,  -4.7633,\n",
      "          -5.7612, -10.4701,  -2.8729,  -1.9058]], device='cuda:0')\n",
      "tensor([[ 3.5891, -6.3169, -7.1791, -7.7729, -3.8097,  9.8284, -3.9293, -4.4611,\n",
      "         -5.7893, -3.1522,  1.5680]], device='cuda:0')\n",
      "tensor([[ 4.7883, -8.7259, -2.6866, -2.1819, -2.6960, -2.4789, -3.0771,  4.2925,\n",
      "         -4.9238, -2.0810, -2.3689]], device='cuda:0')\n",
      "tensor([[ 2.3134, -1.0791, -5.9276, -1.2471, -2.6167,  7.9847,  0.0106, -4.5906,\n",
      "         -5.5516, -5.3038, -0.6961]], device='cuda:0')\n",
      "tensor([[  9.1691, -11.5969, -12.4102,  17.6716,  -1.0982,  -8.0991,  -9.5894,\n",
      "           1.9914, -25.1140, -14.5179,  -2.5996]], device='cuda:0')\n",
      "tensor([[ 1.1822,  0.2839, -8.7069, -9.6183, -1.0405,  0.2692, 12.0131, -5.0836,\n",
      "         -8.3169, -7.7028, -1.5495]], device='cuda:0')\n",
      "tensor([[  0.9388,   2.4267,  -9.7812, -10.8646,  -5.4473,   7.6732,  12.7532,\n",
      "          -8.9524, -11.7345, -12.6326,   0.4386]], device='cuda:0')\n",
      "tensor([[  1.1133,   1.4906,  -7.3513, -16.1159,  -4.1322,  -2.2719,  17.2119,\n",
      "         -10.2732, -12.3678,  -7.1717,   5.6581]], device='cuda:0')\n",
      "tensor([[  5.3486,  -3.6613,  -2.7209, -10.0047,  -5.7734,  -3.5820,  -4.6288,\n",
      "          -3.4856,   5.3643,  -4.1344,  -1.9728]], device='cuda:0')\n",
      "tensor([[ 3.8845, -4.2680, -0.5893, -3.0976, -2.4597, -3.0398, -8.3365, -3.0507,\n",
      "         -3.1629,  5.6323, -2.7389]], device='cuda:0')\n",
      "tensor([[  2.1231,  -0.9316,  -9.1105, -10.5829,  -4.2876,   1.3339,  14.1796,\n",
      "          -6.1092, -11.3604, -11.6430,   0.3037]], device='cuda:0')\n"
     ]
    },
    {
     "data": {
      "text/plain": [
       "tensor([[6.6289e-02, 5.4854e-05, 1.8979e-04, 2.4810e-04, 9.3296e-01, 5.2940e-05,\n",
       "         5.6263e-05, 8.9036e-05, 5.1142e-05, 5.6779e-06, 4.7513e-06],\n",
       "        [2.7603e-01, 6.4219e-05, 1.8893e-03, 1.4184e-08, 1.2748e-02, 7.6507e-06,\n",
       "         4.9715e-05, 8.8187e-06, 7.0916e-01, 3.3385e-05, 4.8914e-07]])"
      ]
     },
     "execution_count": 16,
     "metadata": {},
     "output_type": "execute_result"
    }
   ],
   "source": [
    "\n",
    "# Make predictions on test samples with model 2\n",
    "pred_probs= make_predictions(model=model, \n",
    "                             data=test_samples)\n",
    "\n",
    "# View first two prediction probabilities list\n",
    "pred_probs[:2]"
   ]
  },
  {
   "cell_type": "code",
   "execution_count": 17,
   "id": "dc682b5a",
   "metadata": {},
   "outputs": [
    {
     "data": {
      "text/plain": [
       "tensor([4, 8, 0, 7, 5, 2, 0, 7, 4, 0, 5, 0, 5, 3, 6, 6, 6, 8, 9, 6])"
      ]
     },
     "execution_count": 17,
     "metadata": {},
     "output_type": "execute_result"
    }
   ],
   "source": [
    "# Turn the prediction probabilities into prediction labels by taking the argmax()\n",
    "pred_classes = pred_probs.argmax(dim=1)\n",
    "pred_classes"
   ]
  },
  {
   "cell_type": "code",
   "execution_count": 18,
   "id": "7d1da1c8",
   "metadata": {},
   "outputs": [
    {
     "data": {
      "text/plain": [
       "([tensor(4),\n",
       "  tensor(8),\n",
       "  tensor(6),\n",
       "  tensor(7),\n",
       "  tensor(6),\n",
       "  tensor(2),\n",
       "  tensor(4),\n",
       "  tensor(7),\n",
       "  tensor(4),\n",
       "  tensor(2),\n",
       "  tensor(5),\n",
       "  tensor(7),\n",
       "  tensor(5),\n",
       "  tensor(3),\n",
       "  tensor(6),\n",
       "  tensor(6),\n",
       "  tensor(6),\n",
       "  tensor(8),\n",
       "  tensor(9),\n",
       "  tensor(6)],\n",
       " tensor([4, 8, 0, 7, 5, 2, 0, 7, 4, 0, 5, 0, 5, 3, 6, 6, 6, 8, 9, 6]))"
      ]
     },
     "execution_count": 18,
     "metadata": {},
     "output_type": "execute_result"
    }
   ],
   "source": [
    "\n",
    "# Are our predictions in the same form as our test labels? \n",
    "test_labels, pred_classes"
   ]
  },
  {
   "cell_type": "code",
   "execution_count": 19,
   "id": "0e5cb885",
   "metadata": {},
   "outputs": [
    {
     "data": {
      "application/vnd.jupyter.widget-view+json": {
       "model_id": "0333712bf5a44d4488b1c6c4baaa46ac",
       "version_major": 2,
       "version_minor": 0
      },
      "text/plain": [
       "Making predictions:   0%|          | 0/283 [00:00<?, ?it/s]"
      ]
     },
     "metadata": {},
     "output_type": "display_data"
    }
   ],
   "source": [
    "\n",
    "# Import tqdm for progress bar\n",
    "from tqdm.auto import tqdm\n",
    "\n",
    "# 1. Make predictions with trained model\n",
    "y_preds = []\n",
    "y_true = []\n",
    "model.eval()\n",
    "with torch.inference_mode():\n",
    "    for X, y in tqdm(test_dataloader, desc=\"Making predictions\"):\n",
    "        # Send data and targets to target device\n",
    "        X, y = X.to(device), y.to(device)\n",
    "        # Do the forward pass\n",
    "        y_logit = model(X)\n",
    "        # Turn predictions from logits -> prediction probabilities -> predictions labels\n",
    "        y_pred = torch.softmax(y_logit, dim=1).argmax(dim=1) # note: perform softmax on the \"logits\" dimension, not \"batch\" dimension (in this case we have a batch size of 32, so can perform on dim=1)\n",
    "        # Put predictions on CPU for evaluation\n",
    "        y_preds.append(y_pred.cpu())\n",
    "        y_true.append(y)\n",
    "# Concatenate list of predictions into a tensor\n",
    "y_pred_tensor = torch.cat(y_preds)\n",
    "y_true_tensor = torch.cat(y_true).cpu()"
   ]
  },
  {
   "cell_type": "code",
   "execution_count": 20,
   "id": "00d7c263",
   "metadata": {},
   "outputs": [
    {
     "name": "stdout",
     "output_type": "stream",
     "text": [
      "mlxtend version: 0.23.1\n"
     ]
    }
   ],
   "source": [
    "# See if torchmetrics exists, if not, install it\n",
    "try:\n",
    "    import torchmetrics, mlxtend\n",
    "    print(f\"mlxtend version: {mlxtend.__version__}\")\n",
    "    assert int(mlxtend.__version__.split(\".\")[1]) >= 19, \"mlxtend verison should be 0.19.0 or higher\"\n",
    "except:\n",
    "    !pip install -q torchmetrics -U mlxtend # <- Note: If you're using Google Colab, this may require restarting the runtime\n",
    "    import torchmetrics, mlxtend\n",
    "    print(f\"mlxtend version: {mlxtend.__version__}\")"
   ]
  },
  {
   "cell_type": "code",
   "execution_count": 22,
   "id": "ac500cc9",
   "metadata": {},
   "outputs": [
    {
     "data": {
      "image/png": "[encoded data removed]",
      "text/plain": [
       "<Figure size 1000x700 with 1 Axes>"
      ]
     },
     "metadata": {},
     "output_type": "display_data"
    }
   ],
   "source": [
    "from torchmetrics import ConfusionMatrix\n",
    "from mlxtend.plotting import plot_confusion_matrix\n",
    "\n",
    "# 2. Setup confusion matrix instance and compare predictions to targets\n",
    "confmat = ConfusionMatrix(num_classes=11, task='multiclass')\n",
    "confmat_tensor = confmat(preds=y_pred_tensor,\n",
    "                         target=y_true_tensor)\n",
    "\n",
    "# 3. Plot the confusion matrix\n",
    "fig, ax = plot_confusion_matrix(\n",
    "    conf_mat=confmat_tensor.numpy(), # matplotlib likes working with NumPy \n",
    "    class_names=classes.CLASSES, # turn the row and column labels into class names\n",
    "    figsize=(10, 7)\n",
    ");"
   ]
  },
  {
   "cell_type": "code",
   "execution_count": null,
   "id": "53df4529",
   "metadata": {},
   "outputs": [],
   "source": []
  }
 ],
 "metadata": {
  "kernelspec": {
   "display_name": "Python 3 (ipykernel)",
   "language": "python",
   "name": "python3"
  },
  "language_info": {
   "codemirror_mode": {
    "name": "ipython",
    "version": 3
   },
   "file_extension": ".py",
   "mimetype": "text/x-python",
   "name": "python",
   "nbconvert_exporter": "python",
   "pygments_lexer": "ipython3",
   "version": "3.10.9"
  }
 },
 "nbformat": 4,
 "nbformat_minor": 5
}
