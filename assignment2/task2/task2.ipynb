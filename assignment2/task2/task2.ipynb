{
 "cells": [
  {
   "cell_type": "markdown",
   "id": "16dad879-8386-435d-9c58-f61bf051bcb7",
   "metadata": {},
   "source": [
    "# Label Characteristics"
   ]
  },
  {
   "cell_type": "markdown",
   "id": "e1f0355f",
   "metadata": {},
   "source": [
    "In this task, we want to analyse the labels for our machine learning task. We have:\n",
    "- 10 keywords we want to identify\n",
    "- Labels for recordings of 20 different words\n",
    "- Everyday scenes with/without speech\n",
    "\n",
    "\n",
    "## Speech / No-Speech classification\n",
    "\n",
    "First, we can classify the audio samples into speech and no-speech. Samples with speech are labelled as `1` and samples without are labelled as `0`.\n",
    "\n",
    "This means that:\n",
    "- All recordings of the 20 different words get a `1`\n",
    "- All recordings of \"Other\" with `speech_false` get a `0`\n",
    "- All recordings of \"Other\" with `speech_true` are unused, since we are not sure which samples have speech\n",
    "\n",
    "### Label Distribution\n",
    "\n",
    "- Speech False: 846\n",
    "- Speech True: 40834\n",
    "\n",
    "We have much more samples with speech than samples without. \n",
    "\n",
    "## Command classification\n",
    "\n",
    "We want to know whether a short audio segment contains a keyword and not just any speech. \n",
    "\n",
    "We have 10 different keyword, therefore a one-hot encoding seems easily feasible. A classification for an audio sample consists of 10 numbers between 0 and 1, one for each keyword. Each number represents our degree of belief that the audio sample has its corresponding keyword in it.\n",
    "\n",
    "Let's say we order the keywords in this manner:\n",
    "1. Fernseher (TV)\n",
    "2. Heizung (heating)\n",
    "3. Licht (lights)\n",
    "4. Lüftung (ventilation)\n",
    "5. Ofen (oven)\n",
    "6. Alarm (alarm)\n",
    "7. Radio (radio)\n",
    "8. Staubsauger (vacuum cleaner)\n",
    "9. an (on)\n",
    "10. aus (off)\n",
    "\n",
    "For a sample with the keyword \"Licht\", its classification would be `[0 0 1 0 0 0 0 0 0 0]`. For the word \"Staubsauger\", its `[0 0 0 0 0 0 0 1 0 0]`. If a sample has no keyword in it, its classification is `[0 0 0 0 0 0 0 0 0 0]`.\n",
    "\n",
    "This means that:\n",
    "- All recordings of the 20 different words get a classification with a single `1`.\n",
    "- All recordings of \"Other\" with `speech_false` get a classification of only `0`s. \n",
    "- All recordings of \"Other\" with `speech_true` are unused, since we are not sure which samples have which keyword.\n",
    "\n",
    "### Label Distribution\n",
    "\n",
    "- \"brötchen\": 2038\n",
    "- \"kann\": 2038\n",
    "- \"staubsauger\": 2038\n",
    "- \"spiegel\": 2040\n",
    "- \"alarm\": 2042\n",
    "- \"lüftung\": 2045\n",
    "- \"ofen\": 2044\n",
    "- \"haus\": 2042\n",
    "- \"heizung\": 2036\n",
    "- \"fernseher\": 2046\n",
    "- \"schraube\": 2046\n",
    "- \"licht\": 2044\n",
    "- \"aus\": 2041\n",
    "- \"nicht\": 2045\n",
    "- \"warm\": 2040\n",
    "- \"an\": 2041\n",
    "- \"leitung\": 2045\n",
    "- \"offen\": 2039\n",
    "- \"wunderbar\": 2042\n",
    "- \"radio\": 2042\n",
    "- no keyword: 846 \n",
    "\n",
    "The keyword labels are almost equally distributed, but we do have less samples with no keywords."
   ]
  },
  {
   "cell_type": "code",
   "execution_count": 1,
   "id": "9913c1b5",
   "metadata": {},
   "outputs": [],
   "source": [
    "import sys\n",
    "sys.path.append('../../libs')\n",
    "\n",
    "import numpy as np\n",
    "import random\n",
    "import csv\n",
    "\n",
    "import dataset\n"
   ]
  },
  {
   "cell_type": "code",
   "execution_count": 28,
   "id": "ef193267",
   "metadata": {},
   "outputs": [
    {
     "name": "stdout",
     "output_type": "stream",
     "text": [
      "846 40834\n"
     ]
    }
   ],
   "source": [
    "\n",
    "speech_false = 0\n",
    "speech_true = 0\n",
    "\n",
    "for key, value in dataset.labels().items():\n",
    "    if key == \"other\":\n",
    "        speech_false += len(list(filter(lambda x: \"speech_false\" in x[\"filename\"], value)))\n",
    "    else:\n",
    "        speech_true += len(value)\n",
    "\n",
    "print(speech_false, speech_true)"
   ]
  },
  {
   "cell_type": "code",
   "execution_count": 27,
   "id": "5fd49767",
   "metadata": {},
   "outputs": [
    {
     "data": {
      "text/plain": [
       "{'brötchen': 2038,\n",
       " 'kann': 2038,\n",
       " 'staubsauger': 2038,\n",
       " 'spiegel': 2040,\n",
       " 'alarm': 2042,\n",
       " 'lüftung': 2045,\n",
       " 'ofen': 2044,\n",
       " 'haus': 2042,\n",
       " 'heizung': 2036,\n",
       " 'fernseher': 2046,\n",
       " 'schraube': 2046,\n",
       " 'licht': 2044,\n",
       " 'aus': 2041,\n",
       " 'nicht': 2045,\n",
       " 'warm': 2040,\n",
       " 'an': 2041,\n",
       " 'leitung': 2045,\n",
       " 'offen': 2039,\n",
       " 'wunderbar': 2042,\n",
       " 'radio': 2042,\n",
       " 'none': 846}"
      ]
     },
     "execution_count": 27,
     "metadata": {},
     "output_type": "execute_result"
    }
   ],
   "source": [
    "classifications = {}\n",
    "\n",
    "for key, value in dataset.labels().items():\n",
    "    if key == \"other\":\n",
    "        classifications[\"none\"] = len(list(filter(lambda x: \"speech_false\" in x[\"filename\"], value)))\n",
    "    else:\n",
    "        classifications[key] = len(value)\n",
    "\n",
    "classifications"
   ]
  }
 ],
 "metadata": {
  "kernelspec": {
   "display_name": "Python 3 (ipykernel)",
   "language": "python",
   "name": "python3"
  },
  "language_info": {
   "codemirror_mode": {
    "name": "ipython",
    "version": 3
   },
   "file_extension": ".py",
   "mimetype": "text/x-python",
   "name": "python",
   "nbconvert_exporter": "python",
   "pygments_lexer": "ipython3",
   "version": "3.12.2"
  }
 },
 "nbformat": 4,
 "nbformat_minor": 5
}
